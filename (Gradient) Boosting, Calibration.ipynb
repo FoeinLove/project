{
 "cells": [
  {
   "cell_type": "markdown",
   "metadata": {},
   "source": [
    "                             Gradient Boosting Advantages\n",
    "* Slower to train than RF (if using \"old\" GradientBoostingRegressor), but much faster to predict\n",
    "* Very fast using XGBoost, LightGBM, pygbm, new scikit-learn implementation #12807\n",
    "* Small model size\n",
    "* Typically more accurate than Random Forests"
   ]
  },
  {
   "cell_type": "markdown",
   "metadata": {},
   "source": [
    "                              Tuning Gradient Boosting\n",
    "* Pick n_estimators, tune learning rate\n",
    "* Can also tune max_features\n",
    "* Typically strong pruning via max_depth"
   ]
  },
  {
   "cell_type": "code",
   "execution_count": null,
   "metadata": {},
   "outputs": [],
   "source": [
    "from xgboost import XGBClassifier\n",
    "xgb = XGBClassifier()\n",
    "xgb.fit(X_train, y_train)\n",
    "xgb.score(X_test, y_test))"
   ]
  },
  {
   "cell_type": "markdown",
   "metadata": {},
   "source": [
    "                              When to use tree-based models\n",
    "* Model non-linear relationships\n",
    "* Doesn’t care about scaling, no need for feature engineering\n",
    "* Single tree: very interpretable (if small)\n",
    "* Random forests very robust, good benchmark\n",
    "* Gradient boosting often best performance with careful tuning"
   ]
  },
  {
   "cell_type": "markdown",
   "metadata": {},
   "source": [
    "                                      Calibration\n",
    "\n",
    "* Probabilities can be much more informative than labels:\n",
    "\n",
    "* “The model predicted you don’t have cancer” vs “The model predicted you’re 40% likely to have cancer”"
   ]
  },
  {
   "cell_type": "code",
   "execution_count": null,
   "metadata": {},
   "outputs": [],
   "source": []
  }
 ],
 "metadata": {
  "kernelspec": {
   "display_name": "Python 3",
   "language": "python",
   "name": "python3"
  },
  "language_info": {
   "codemirror_mode": {
    "name": "ipython",
    "version": 3
   },
   "file_extension": ".py",
   "mimetype": "text/x-python",
   "name": "python",
   "nbconvert_exporter": "python",
   "pygments_lexer": "ipython3",
   "version": "3.7.3"
  }
 },
 "nbformat": 4,
 "nbformat_minor": 2
}
