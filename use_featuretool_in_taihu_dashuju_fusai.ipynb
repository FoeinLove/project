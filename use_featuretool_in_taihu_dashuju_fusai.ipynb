{
 "cells": [
  {
   "cell_type": "markdown",
   "metadata": {},
   "source": [
    "# auto features"
   ]
  },
  {
   "cell_type": "code",
   "execution_count": 1,
   "metadata": {},
   "outputs": [],
   "source": [
    "import warnings\n",
    "warnings.filterwarnings(\"ignore\")\n",
    "import pandas as pd\n",
    "import numpy as np\n",
    "import datetime as dt\n",
    "\n",
    "df1 = pd.read_csv('Desktop/复赛/test/企业基本信息1.csv')\n",
    "df1.columns = ['EID', 'rgcash', 'rgcashtype', 'etype', 'hy',\n",
    "               'xkjy', 'ybjy', 'jyfw', 'rgdate', 'pnum', 'invnum', 'invcashtype']"
   ]
  },
  {
   "cell_type": "code",
   "execution_count": 2,
   "metadata": {},
   "outputs": [],
   "source": [
    "df1['end'] = pd.to_datetime('2018/8')\n",
    "df1.rgdate = pd.to_datetime(df1.rgdate)\n",
    "df1['period'] = (df1.end.dt.year - df1.rgdate.dt.year)*12 + df1.end.dt.month - df1.rgdate.dt.month\n",
    "df1.drop(['end'],axis=1,inplace=True)"
   ]
  },
  {
   "cell_type": "code",
   "execution_count": 3,
   "metadata": {},
   "outputs": [
    {
     "name": "stderr",
     "output_type": "stream",
     "text": [
      "Building prefix dict from the default dictionary ...\n",
      "Loading model from cache /tmp/jieba.cache\n",
      "Loading model cost 0.649 seconds.\n",
      "Prefix dict has been built succesfully.\n"
     ]
    }
   ],
   "source": [
    "import jieba\n",
    "import jieba.analyse\n",
    "\n",
    "jieba.analyse.set_stop_words('/home/ian/Desktop/idf.txt')\n",
    "\n",
    "df1['fenci1'] = df1.jyfw.apply(lambda x: jieba.analyse.extract_tags(x,topK=100))\n",
    "df1['fenci2'] = df1.ybjy.apply(lambda x: jieba.analyse.extract_tags(x,topK=100))\n",
    "df1['fenci3'] = df1.xkjy.apply(lambda x: jieba.analyse.extract_tags(x,topK=100))\n",
    "\n",
    "df1['jyfwfenci'] = df1.fenci1.map(lambda x: ' '.join(x))\n",
    "df1['ybjyfenci'] = df1.fenci2.map(lambda x: ' '.join(x))\n",
    "df1['xkjyfenci'] = df1.fenci3.map(lambda x: ' '.join(x))\n",
    "\n",
    "corpus1 = df1['jyfwfenci']\n",
    "corpus2 = df1['ybjyfenci']\n",
    "corpus3 = df1['xkjyfenci']\n",
    "\n",
    "from sklearn.feature_extraction.text import TfidfVectorizer\n",
    "tfidf = TfidfVectorizer(min_df=1)\n",
    "\n",
    "jyfw_tfidf = pd.DataFrame(tfidf.fit_transform(corpus1).toarray())\n",
    "ybjy_tfidf = pd.DataFrame(tfidf.fit_transform(corpus2).toarray())\n",
    "xkjy_tfidf = pd.DataFrame(tfidf.fit_transform(corpus3).toarray())"
   ]
  },
  {
   "cell_type": "code",
   "execution_count": 4,
   "metadata": {},
   "outputs": [
    {
     "data": {
      "text/plain": [
       "((12518, 6954), (12518, 6912), (12518, 6912))"
      ]
     },
     "execution_count": 4,
     "metadata": {},
     "output_type": "execute_result"
    }
   ],
   "source": [
    "jyfw_tfidf.shape,ybjy_tfidf.shape,xkjy_tfidf.shape"
   ]
  },
  {
   "cell_type": "code",
   "execution_count": 1,
   "metadata": {},
   "outputs": [
    {
     "name": "stderr",
     "output_type": "stream",
     "text": [
      "Building prefix dict from the default dictionary ...\n",
      "Loading model from cache /tmp/jieba.cache\n",
      "Loading model cost 0.636 seconds.\n",
      "Prefix dict has been built succesfully.\n"
     ]
    }
   ],
   "source": [
    "import warnings\n",
    "warnings.filterwarnings(\"ignore\")\n",
    "import pandas as pd\n",
    "import numpy as np\n",
    "import datetime as dt\n",
    "\n",
    "df1 = pd.read_csv('Desktop/复赛/test/企业基本信息1.csv')\n",
    "df1.columns = ['EID', 'rgcash', 'rgcashtype', 'etype', 'hy',\n",
    "               'xkjy', 'ybjy', 'jyfw', 'rgdate', 'pnum', 'invnum', 'invcashtype']\n",
    "#df1 = df1.drop(['invcashtype'],axis=1)\n",
    "#df1.pnum.fillna(7,inplace=True)\n",
    "\n",
    "df1['end'] = pd.to_datetime('2018/8')\n",
    "df1.rgdate = pd.to_datetime(df1.rgdate)\n",
    "df1['period'] = (df1.end.dt.year - df1.rgdate.dt.year)*12 + df1.end.dt.month - df1.rgdate.dt.month\n",
    "df1.drop(['end'],axis=1,inplace=True)\n",
    "\n",
    "#tfidf\n",
    "import jieba\n",
    "import jieba.analyse\n",
    "\n",
    "jieba.analyse.set_stop_words('/home/ian/Desktop/idf.txt')\n",
    "\n",
    "df1['fenci1'] = df1.jyfw.apply(lambda x: jieba.analyse.extract_tags(x,topK=100))\n",
    "df1['fenci2'] = df1.ybjy.apply(lambda x: jieba.analyse.extract_tags(x,topK=100))\n",
    "df1['fenci3'] = df1.xkjy.apply(lambda x: jieba.analyse.extract_tags(x,topK=100))\n",
    "\n",
    "df1['jyfwfenci'] = df1.fenci1.map(lambda x: ' '.join(x))\n",
    "df1['ybjyfenci'] = df1.fenci2.map(lambda x: ' '.join(x))\n",
    "df1['xkjyfenci'] = df1.fenci3.map(lambda x: ' '.join(x))\n",
    "\n",
    "corpus1 = df1['jyfwfenci']\n",
    "corpus2 = df1['ybjyfenci']\n",
    "corpus3 = df1['xkjyfenci']\n",
    "\n",
    "\n",
    "\n",
    "from sklearn.feature_extraction.text import TfidfVectorizer\n",
    "tfidf = TfidfVectorizer(min_df=1)\n",
    "\n",
    "jyfw_tfidf = pd.DataFrame(tfidf.fit_transform(corpus1).toarray())\n",
    "ybjy_tfidf = pd.DataFrame(tfidf.fit_transform(corpus2).toarray())\n",
    "xkjy_tfidf = pd.DataFrame(tfidf.fit_transform(corpus3).toarray())\n",
    "\n",
    "jyfw_tfidf['jyfw_tfidf_sum'] = jyfw_tfidf.ix[:,0:6954].apply(lambda x: x.sum(), axis=1)\n",
    "jyfw_tfidf['jyfw_tfidf_min'] = jyfw_tfidf.ix[:,0:6954].apply(lambda x: x.min(), axis=1)\n",
    "jyfw_tfidf['jyfw_tfidf_max'] = jyfw_tfidf.ix[:,0:6954].apply(lambda x: x.max(), axis=1)\n",
    "jyfw_tfidf['jyfw_tfidf_std'] = jyfw_tfidf.ix[:,0:6954].apply(lambda x: x.std(), axis=1)\n",
    "jyfw_tfidf['jyfw_tfidf_mean'] = jyfw_tfidf.ix[:,0:6954].apply(lambda x: x.mean(), axis=1)\n",
    "\n",
    "ybjy_tfidf['ybjy_tfidf_sum'] = ybjy_tfidf.ix[:,0:6912].apply(lambda x: x.sum(), axis=1)\n",
    "ybjy_tfidf['ybjy_tfidf_min'] = ybjy_tfidf.ix[:,0:6912].apply(lambda x: x.min(), axis=1)\n",
    "ybjy_tfidf['ybjy_tfidf_max'] = ybjy_tfidf.ix[:,0:6912].apply(lambda x: x.max(), axis=1)\n",
    "ybjy_tfidf['ybjy_tfidf_std'] = ybjy_tfidf.ix[:,0:6912].apply(lambda x: x.std(), axis=1)\n",
    "ybjy_tfidf['ybjy_tfidf_mean'] = ybjy_tfidf.ix[:,0:6912].apply(lambda x: x.mean(), axis=1)\n",
    "\n",
    "xkjy_tfidf['xkjy_tfidf_sum'] = xkjy_tfidf.ix[:,0:6912].apply(lambda x: x.sum(), axis=1)\n",
    "xkjy_tfidf['xkjy_tfidf_min'] = xkjy_tfidf.ix[:,0:6912].apply(lambda x: x.min(), axis=1)\n",
    "xkjy_tfidf['xkjy_tfidf_max'] = xkjy_tfidf.ix[:,0:6912].apply(lambda x: x.max(), axis=1)\n",
    "xkjy_tfidf['xkjy_tfidf_std'] = xkjy_tfidf.ix[:,0:6912].apply(lambda x: x.std(), axis=1)\n",
    "xkjy_tfidf['xkjy_tfidf_mean'] = xkjy_tfidf.ix[:,0:6912].apply(lambda x: x.mean(), axis=1)\n",
    "\n",
    "jyfw_tfidf_feat = jyfw_tfidf[[\n",
    "    'jyfw_tfidf_sum', 'jyfw_tfidf_max', 'jyfw_tfidf_std', 'jyfw_tfidf_mean']]\n",
    "\n",
    "ybjy_tfidf_feat = ybjy_tfidf[[\n",
    "    'ybjy_tfidf_sum', 'ybjy_tfidf_max', 'ybjy_tfidf_std', 'ybjy_tfidf_mean']]\n",
    "\n",
    "xkjy_tfidf_feat = xkjy_tfidf[[\n",
    "    'xkjy_tfidf_sum', 'xkjy_tfidf_max', 'xkjy_tfidf_std', 'xkjy_tfidf_mean']]\n",
    "\n",
    "df1_feat = pd.concat([df1, jyfw_tfidf_feat,ybjy_tfidf_feat,xkjy_tfidf_feat], axis=1)\n",
    "df1_feat.drop(['xkjy', 'ybjy', 'jyfw', 'fenci1','fenci2','fenci3', 'jyfwfenci','ybjyfenci','xkjyfenci'], axis=1, inplace=True)"
   ]
  },
  {
   "cell_type": "code",
   "execution_count": 2,
   "metadata": {},
   "outputs": [
    {
     "data": {
      "text/html": [
       "<div>\n",
       "<style scoped>\n",
       "    .dataframe tbody tr th:only-of-type {\n",
       "        vertical-align: middle;\n",
       "    }\n",
       "\n",
       "    .dataframe tbody tr th {\n",
       "        vertical-align: top;\n",
       "    }\n",
       "\n",
       "    .dataframe thead th {\n",
       "        text-align: right;\n",
       "    }\n",
       "</style>\n",
       "<table border=\"1\" class=\"dataframe\">\n",
       "  <thead>\n",
       "    <tr style=\"text-align: right;\">\n",
       "      <th></th>\n",
       "      <th>EID</th>\n",
       "      <th>rgcash</th>\n",
       "      <th>rgcashtype</th>\n",
       "      <th>etype</th>\n",
       "      <th>hy</th>\n",
       "      <th>rgdate</th>\n",
       "      <th>pnum</th>\n",
       "      <th>invnum</th>\n",
       "      <th>invcashtype</th>\n",
       "      <th>period</th>\n",
       "      <th>...</th>\n",
       "      <th>jyfw_tfidf_std</th>\n",
       "      <th>jyfw_tfidf_mean</th>\n",
       "      <th>ybjy_tfidf_sum</th>\n",
       "      <th>ybjy_tfidf_max</th>\n",
       "      <th>ybjy_tfidf_std</th>\n",
       "      <th>ybjy_tfidf_mean</th>\n",
       "      <th>xkjy_tfidf_sum</th>\n",
       "      <th>xkjy_tfidf_max</th>\n",
       "      <th>xkjy_tfidf_std</th>\n",
       "      <th>xkjy_tfidf_mean</th>\n",
       "    </tr>\n",
       "  </thead>\n",
       "  <tbody>\n",
       "    <tr>\n",
       "      <th>0</th>\n",
       "      <td>Q00001</td>\n",
       "      <td>2200</td>\n",
       "      <td>人民币元</td>\n",
       "      <td>有限责任公司</td>\n",
       "      <td>E</td>\n",
       "      <td>2014-07-17</td>\n",
       "      <td>2.0</td>\n",
       "      <td>0</td>\n",
       "      <td>NaN</td>\n",
       "      <td>49</td>\n",
       "      <td>...</td>\n",
       "      <td>0.011975</td>\n",
       "      <td>0.000644</td>\n",
       "      <td>4.476431</td>\n",
       "      <td>0.415565</td>\n",
       "      <td>0.012012</td>\n",
       "      <td>0.000648</td>\n",
       "      <td>4.476431</td>\n",
       "      <td>0.415565</td>\n",
       "      <td>0.012012</td>\n",
       "      <td>0.000648</td>\n",
       "    </tr>\n",
       "    <tr>\n",
       "      <th>1</th>\n",
       "      <td>Q00007</td>\n",
       "      <td>110</td>\n",
       "      <td>人民币元</td>\n",
       "      <td>有限责任公司(自然人独资)</td>\n",
       "      <td>F</td>\n",
       "      <td>2016-09-05</td>\n",
       "      <td>4.0</td>\n",
       "      <td>0</td>\n",
       "      <td>NaN</td>\n",
       "      <td>23</td>\n",
       "      <td>...</td>\n",
       "      <td>0.011981</td>\n",
       "      <td>0.000518</td>\n",
       "      <td>3.602491</td>\n",
       "      <td>0.398430</td>\n",
       "      <td>0.012018</td>\n",
       "      <td>0.000521</td>\n",
       "      <td>3.602491</td>\n",
       "      <td>0.398430</td>\n",
       "      <td>0.012018</td>\n",
       "      <td>0.000521</td>\n",
       "    </tr>\n",
       "  </tbody>\n",
       "</table>\n",
       "<p>2 rows × 22 columns</p>\n",
       "</div>"
      ],
      "text/plain": [
       "      EID  rgcash rgcashtype          etype hy     rgdate  pnum  invnum  \\\n",
       "0  Q00001    2200       人民币元         有限责任公司  E 2014-07-17   2.0       0   \n",
       "1  Q00007     110       人民币元  有限责任公司(自然人独资)  F 2016-09-05   4.0       0   \n",
       "\n",
       "  invcashtype  period       ...         jyfw_tfidf_std  jyfw_tfidf_mean  \\\n",
       "0         NaN      49       ...               0.011975         0.000644   \n",
       "1         NaN      23       ...               0.011981         0.000518   \n",
       "\n",
       "   ybjy_tfidf_sum  ybjy_tfidf_max  ybjy_tfidf_std  ybjy_tfidf_mean  \\\n",
       "0        4.476431        0.415565        0.012012         0.000648   \n",
       "1        3.602491        0.398430        0.012018         0.000521   \n",
       "\n",
       "   xkjy_tfidf_sum  xkjy_tfidf_max  xkjy_tfidf_std  xkjy_tfidf_mean  \n",
       "0        4.476431        0.415565        0.012012         0.000648  \n",
       "1        3.602491        0.398430        0.012018         0.000521  \n",
       "\n",
       "[2 rows x 22 columns]"
      ]
     },
     "execution_count": 2,
     "metadata": {},
     "output_type": "execute_result"
    }
   ],
   "source": [
    "df1_feat.head(2)"
   ]
  },
  {
   "cell_type": "code",
   "execution_count": 3,
   "metadata": {},
   "outputs": [],
   "source": [
    "df1 = df1_feat"
   ]
  },
  {
   "cell_type": "code",
   "execution_count": 4,
   "metadata": {},
   "outputs": [
    {
     "data": {
      "text/html": [
       "<div>\n",
       "<style scoped>\n",
       "    .dataframe tbody tr th:only-of-type {\n",
       "        vertical-align: middle;\n",
       "    }\n",
       "\n",
       "    .dataframe tbody tr th {\n",
       "        vertical-align: top;\n",
       "    }\n",
       "\n",
       "    .dataframe thead th {\n",
       "        text-align: right;\n",
       "    }\n",
       "</style>\n",
       "<table border=\"1\" class=\"dataframe\">\n",
       "  <thead>\n",
       "    <tr style=\"text-align: right;\">\n",
       "      <th></th>\n",
       "      <th>EID</th>\n",
       "      <th>sue_pos</th>\n",
       "      <th>sue_dep</th>\n",
       "      <th>sue_type</th>\n",
       "      <th>sue_cash</th>\n",
       "      <th>paper_type</th>\n",
       "      <th>proc</th>\n",
       "      <th>end_date</th>\n",
       "      <th>period</th>\n",
       "    </tr>\n",
       "  </thead>\n",
       "  <tbody>\n",
       "    <tr>\n",
       "      <th>0</th>\n",
       "      <td>Q00014</td>\n",
       "      <td>被告</td>\n",
       "      <td>江苏省苏州市相城区人民法院</td>\n",
       "      <td>买卖合同纠纷</td>\n",
       "      <td>142000</td>\n",
       "      <td>民事判决书</td>\n",
       "      <td>一审</td>\n",
       "      <td>2017-05-01</td>\n",
       "      <td>15</td>\n",
       "    </tr>\n",
       "    <tr>\n",
       "      <th>1</th>\n",
       "      <td>Q00014</td>\n",
       "      <td>原告</td>\n",
       "      <td>江苏省苏州市吴江区人民法院</td>\n",
       "      <td>买卖合同纠纷</td>\n",
       "      <td>0</td>\n",
       "      <td>民事裁定书</td>\n",
       "      <td>一审</td>\n",
       "      <td>2015-04-01</td>\n",
       "      <td>40</td>\n",
       "    </tr>\n",
       "  </tbody>\n",
       "</table>\n",
       "</div>"
      ],
      "text/plain": [
       "      EID sue_pos        sue_dep sue_type  sue_cash paper_type proc  \\\n",
       "0  Q00014      被告  江苏省苏州市相城区人民法院   买卖合同纠纷    142000      民事判决书   一审   \n",
       "1  Q00014      原告  江苏省苏州市吴江区人民法院   买卖合同纠纷         0      民事裁定书   一审   \n",
       "\n",
       "    end_date  period  \n",
       "0 2017-05-01      15  \n",
       "1 2015-04-01      40  "
      ]
     },
     "execution_count": 4,
     "metadata": {},
     "output_type": "execute_result"
    }
   ],
   "source": [
    "df2 = pd.read_csv('Desktop/复赛/test/民商事裁判文书2.csv')\n",
    "df2.columns = ['EID', 'sue_pos', 'sue_dep', 'sue_type', 'sue_cash',\n",
    "               'paper_type', 'proc', 'end_date']\n",
    "\n",
    "df2['end_date'] = df2.end_date.apply(lambda x: x.replace('年','/'))   \n",
    "df2['end_date'] = df2.end_date.apply(lambda x: x.replace('月',' '))  \n",
    "df2.end_date = pd.to_datetime(df2.end_date)\n",
    "\n",
    "df2['end'] = pd.to_datetime('2018/8')\n",
    "df2.end_date = pd.to_datetime(df2.end_date)\n",
    "df2['period'] = (df2.end.dt.year - df2.end_date.dt.year) * 12 + df2.end.dt.month - df2.end_date.dt.month\n",
    "df2.drop(['end'], axis=1, inplace=True)\n",
    "df2.head(2)\n"
   ]
  },
  {
   "cell_type": "code",
   "execution_count": null,
   "metadata": {},
   "outputs": [],
   "source": []
  },
  {
   "cell_type": "code",
   "execution_count": 5,
   "metadata": {},
   "outputs": [
    {
     "data": {
      "text/html": [
       "<div>\n",
       "<style scoped>\n",
       "    .dataframe tbody tr th:only-of-type {\n",
       "        vertical-align: middle;\n",
       "    }\n",
       "\n",
       "    .dataframe tbody tr th {\n",
       "        vertical-align: top;\n",
       "    }\n",
       "\n",
       "    .dataframe thead th {\n",
       "        text-align: right;\n",
       "    }\n",
       "</style>\n",
       "<table border=\"1\" class=\"dataframe\">\n",
       "  <thead>\n",
       "    <tr style=\"text-align: right;\">\n",
       "      <th></th>\n",
       "      <th>EID</th>\n",
       "      <th>sue_pos</th>\n",
       "      <th>sue_dep</th>\n",
       "      <th>sue_type</th>\n",
       "      <th>notice_type</th>\n",
       "      <th>date_type</th>\n",
       "      <th>spec_date</th>\n",
       "      <th>period</th>\n",
       "    </tr>\n",
       "  </thead>\n",
       "  <tbody>\n",
       "    <tr>\n",
       "      <th>0</th>\n",
       "      <td>Q00001</td>\n",
       "      <td>原告</td>\n",
       "      <td>上海市奉贤区人民法院</td>\n",
       "      <td>建设工程施工合同纠纷</td>\n",
       "      <td>开庭信息</td>\n",
       "      <td>开庭时间</td>\n",
       "      <td>2016-06-01</td>\n",
       "      <td>26</td>\n",
       "    </tr>\n",
       "    <tr>\n",
       "      <th>1</th>\n",
       "      <td>Q00014</td>\n",
       "      <td>原告/上诉人</td>\n",
       "      <td>上海市杨浦区人民法院</td>\n",
       "      <td>买卖合同纠纷</td>\n",
       "      <td>开庭信息</td>\n",
       "      <td>开庭时间</td>\n",
       "      <td>2015-08-01</td>\n",
       "      <td>36</td>\n",
       "    </tr>\n",
       "  </tbody>\n",
       "</table>\n",
       "</div>"
      ],
      "text/plain": [
       "      EID sue_pos     sue_dep    sue_type notice_type date_type  spec_date  \\\n",
       "0  Q00001      原告  上海市奉贤区人民法院  建设工程施工合同纠纷        开庭信息      开庭时间 2016-06-01   \n",
       "1  Q00014  原告/上诉人  上海市杨浦区人民法院      买卖合同纠纷        开庭信息      开庭时间 2015-08-01   \n",
       "\n",
       "   period  \n",
       "0      26  \n",
       "1      36  "
      ]
     },
     "execution_count": 5,
     "metadata": {},
     "output_type": "execute_result"
    }
   ],
   "source": [
    "df3 = pd.read_csv('Desktop/复赛/test/民商事审判流程3.csv')\n",
    "df3.columns = ['EID', 'sue_pos', 'sue_dep', 'sue_type', 'notice_type',\n",
    "               'date_type', 'spec_date']\n",
    "df3['spec_date'] = df3.spec_date.apply(lambda x: x.replace('年','/'))   \n",
    "df3['spec_date'] = df3.spec_date.apply(lambda x: x.replace('月',' '))\n",
    "df3.spec_date = pd.to_datetime(df3.spec_date)\n",
    "\n",
    "df3['end'] = pd.to_datetime('2018/8')\n",
    "df3.spec_date = pd.to_datetime(df3.spec_date)\n",
    "df3['period'] = (df3.end.dt.year - df3.spec_date.dt.year) *12 + df3.end.dt.month - df3.spec_date.dt.month\n",
    "df3.drop(['end'], axis=1,inplace=True)\n",
    "df3.head(2)\n",
    "\n",
    "df3.head(2)"
   ]
  },
  {
   "cell_type": "code",
   "execution_count": null,
   "metadata": {},
   "outputs": [],
   "source": []
  },
  {
   "cell_type": "code",
   "execution_count": 6,
   "metadata": {},
   "outputs": [
    {
     "data": {
      "text/html": [
       "<div>\n",
       "<style scoped>\n",
       "    .dataframe tbody tr th:only-of-type {\n",
       "        vertical-align: middle;\n",
       "    }\n",
       "\n",
       "    .dataframe tbody tr th {\n",
       "        vertical-align: top;\n",
       "    }\n",
       "\n",
       "    .dataframe thead th {\n",
       "        text-align: right;\n",
       "    }\n",
       "</style>\n",
       "<table border=\"1\" class=\"dataframe\">\n",
       "  <thead>\n",
       "    <tr style=\"text-align: right;\">\n",
       "      <th></th>\n",
       "      <th>EID</th>\n",
       "      <th>dep</th>\n",
       "      <th>spec_date</th>\n",
       "      <th>period</th>\n",
       "    </tr>\n",
       "  </thead>\n",
       "  <tbody>\n",
       "    <tr>\n",
       "      <th>0</th>\n",
       "      <td>Q00091</td>\n",
       "      <td>昆山市环境保护局</td>\n",
       "      <td>2017-08-01</td>\n",
       "      <td>12</td>\n",
       "    </tr>\n",
       "    <tr>\n",
       "      <th>1</th>\n",
       "      <td>Q00117</td>\n",
       "      <td>经检队（总队、支队、大队）</td>\n",
       "      <td>2014-07-01</td>\n",
       "      <td>49</td>\n",
       "    </tr>\n",
       "  </tbody>\n",
       "</table>\n",
       "</div>"
      ],
      "text/plain": [
       "      EID            dep  spec_date  period\n",
       "0  Q00091       昆山市环境保护局 2017-08-01      12\n",
       "1  Q00117  经检队（总队、支队、大队） 2014-07-01      49"
      ]
     },
     "execution_count": 6,
     "metadata": {},
     "output_type": "execute_result"
    }
   ],
   "source": [
    "df4 = pd.read_csv('Desktop/复赛/test/行政违法记录4.csv')\n",
    "df4.columns = ['EID','dep','date_type','spec_date']\n",
    "df4.drop(['date_type'],axis=1,inplace=True)\n",
    "df4['spec_date'] = df4.spec_date.apply(lambda x: x.replace('年','/'))   \n",
    "df4['spec_date'] = df4.spec_date.apply(lambda x: x.replace('月',' '))  \n",
    "df4.spec_date = pd.to_datetime(df4.spec_date)\n",
    "\n",
    "df4['end'] = pd.to_datetime('2018/8')\n",
    "df4.spec_date = pd.to_datetime(df4.spec_date)\n",
    "df4['period'] = (df4.end.dt.year - df4.spec_date.dt.year) *12 + df4.end.dt.month - df4.spec_date.dt.month\n",
    "df4.drop(['end'], axis=1,inplace=True)\n",
    "df4.head(2)\n",
    "\n",
    "df4.head(2)"
   ]
  },
  {
   "cell_type": "code",
   "execution_count": null,
   "metadata": {},
   "outputs": [],
   "source": []
  },
  {
   "cell_type": "code",
   "execution_count": 7,
   "metadata": {},
   "outputs": [
    {
     "data": {
      "text/html": [
       "<div>\n",
       "<style scoped>\n",
       "    .dataframe tbody tr th:only-of-type {\n",
       "        vertical-align: middle;\n",
       "    }\n",
       "\n",
       "    .dataframe tbody tr th {\n",
       "        vertical-align: top;\n",
       "    }\n",
       "\n",
       "    .dataframe thead th {\n",
       "        text-align: right;\n",
       "    }\n",
       "</style>\n",
       "<table border=\"1\" class=\"dataframe\">\n",
       "  <thead>\n",
       "    <tr style=\"text-align: right;\">\n",
       "      <th></th>\n",
       "      <th>EID</th>\n",
       "      <th>dep</th>\n",
       "      <th>tax_type</th>\n",
       "      <th>tax_date</th>\n",
       "      <th>tax</th>\n",
       "      <th>spec_date</th>\n",
       "      <th>period</th>\n",
       "    </tr>\n",
       "  </thead>\n",
       "  <tbody>\n",
       "    <tr>\n",
       "      <th>0</th>\n",
       "      <td>Q00024</td>\n",
       "      <td>苏州市国家税务局</td>\n",
       "      <td>企业所得税</td>\n",
       "      <td>NaN</td>\n",
       "      <td>191000</td>\n",
       "      <td>2015-09-01</td>\n",
       "      <td>35</td>\n",
       "    </tr>\n",
       "    <tr>\n",
       "      <th>1</th>\n",
       "      <td>Q00024</td>\n",
       "      <td>苏州市国家税务局</td>\n",
       "      <td>印花税</td>\n",
       "      <td>NaN</td>\n",
       "      <td>12000</td>\n",
       "      <td>2015-09-01</td>\n",
       "      <td>35</td>\n",
       "    </tr>\n",
       "  </tbody>\n",
       "</table>\n",
       "</div>"
      ],
      "text/plain": [
       "      EID       dep tax_type tax_date     tax  spec_date  period\n",
       "0  Q00024  苏州市国家税务局    企业所得税      NaN  191000 2015-09-01      35\n",
       "1  Q00024  苏州市国家税务局      印花税      NaN   12000 2015-09-01      35"
      ]
     },
     "execution_count": 7,
     "metadata": {},
     "output_type": "execute_result"
    }
   ],
   "source": [
    "df5 = pd.read_csv('Desktop/复赛/test/欠税名单5.csv')\n",
    "df5.columns = ['EID','dep','tax_type','tax_date','tax','spec_date']\n",
    "\n",
    "m = {'10109|城市维护建设税': '城市维护建设税', '10111|印花税': '印花税', '10106|个人所得税': '个人所得税',\n",
    "     '10110|房产税': '房产税', '10112|城镇土地使用税': '城镇土地使用税', '30203|教育费附加': '教育费附加',\n",
    "     '10104|企业所得税': '企业所得税', '30216|地方教育附加': '地方教育附加', '10103|营业税': '营业税',\n",
    "     '10113|土地增值税': '土地增值税', '城市维护建设税': '城市维护建设税', '印花税': '印花税', '个人所得税': '个人所得税',\n",
    "     '增值税':'增值税',\n",
    "     '企业所得税': '企业所得税', '城镇土地使用税': '城镇土地使用税', '房产税': '房产税', '营业税': '营业税',\n",
    "     '土地增值税':'土地增值税', '教育费附加': '教育费附加', '地方教育附加': '地方教育附加', '城建税': '城建税', '增值税增值税': '增值税'}\n",
    "df5['tax_type'] = df5.tax_type.map(m)\n",
    "\n",
    "df5['spec_date'] = df5.spec_date.apply(lambda x: '20'+str(x[4:])+'/'+str(x[0:3]) )\n",
    "\n",
    "df5.spec_date = pd.to_datetime(df5.spec_date)\n",
    "\n",
    "df5['end'] = pd.to_datetime('2018/8')\n",
    "df5.spec_date = pd.to_datetime(df5.spec_date)\n",
    "df5['period'] = (df5.end.dt.year - df5.spec_date.dt.year) *12 + df5.end.dt.month - df5.spec_date.dt.month\n",
    "df5.drop(['end'], axis=1,inplace=True)\n",
    "df5.head(2)\n",
    "\n",
    "df5.head(2)"
   ]
  },
  {
   "cell_type": "code",
   "execution_count": null,
   "metadata": {},
   "outputs": [],
   "source": []
  },
  {
   "cell_type": "code",
   "execution_count": 8,
   "metadata": {},
   "outputs": [
    {
     "data": {
      "text/html": [
       "<div>\n",
       "<style scoped>\n",
       "    .dataframe tbody tr th:only-of-type {\n",
       "        vertical-align: middle;\n",
       "    }\n",
       "\n",
       "    .dataframe tbody tr th {\n",
       "        vertical-align: top;\n",
       "    }\n",
       "\n",
       "    .dataframe thead th {\n",
       "        text-align: right;\n",
       "    }\n",
       "</style>\n",
       "<table border=\"1\" class=\"dataframe\">\n",
       "  <thead>\n",
       "    <tr style=\"text-align: right;\">\n",
       "      <th></th>\n",
       "      <th>EID</th>\n",
       "      <th>dep</th>\n",
       "      <th>date</th>\n",
       "      <th>period</th>\n",
       "    </tr>\n",
       "  </thead>\n",
       "  <tbody>\n",
       "    <tr>\n",
       "      <th>0</th>\n",
       "      <td>Q00007</td>\n",
       "      <td>苏州地税局第四税务分局</td>\n",
       "      <td>2017-10-01</td>\n",
       "      <td>10</td>\n",
       "    </tr>\n",
       "    <tr>\n",
       "      <th>1</th>\n",
       "      <td>Q00055</td>\n",
       "      <td>NaN</td>\n",
       "      <td>2017-11-01</td>\n",
       "      <td>9</td>\n",
       "    </tr>\n",
       "  </tbody>\n",
       "</table>\n",
       "</div>"
      ],
      "text/plain": [
       "      EID          dep       date  period\n",
       "0  Q00007  苏州地税局第四税务分局 2017-10-01      10\n",
       "1  Q00055          NaN 2017-11-01       9"
      ]
     },
     "execution_count": 8,
     "metadata": {},
     "output_type": "execute_result"
    }
   ],
   "source": [
    "df6 = pd.read_csv('Desktop/复赛/test/纳税非正常户6.csv')\n",
    "df6.columns = ['EID','dep','date']\n",
    "df6['date'] = df6.date.apply(lambda x: x.replace('年','/'))   \n",
    "df6['date'] = df6.date.apply(lambda x: x.replace('月',' '))\n",
    "df6.date = pd.to_datetime(df6.date)\n",
    "\n",
    "df6['end'] = pd.to_datetime('2018/8')\n",
    "df6.date = pd.to_datetime(df6.date)\n",
    "df6['period'] = (df6.end.dt.year - df6.date.dt.year) *12 + df6.end.dt.month - df6.date.dt.month\n",
    "df6.drop(['end'], axis=1,inplace=True)\n",
    "df6.head(2)"
   ]
  },
  {
   "cell_type": "code",
   "execution_count": null,
   "metadata": {},
   "outputs": [],
   "source": []
  },
  {
   "cell_type": "code",
   "execution_count": 9,
   "metadata": {},
   "outputs": [
    {
     "data": {
      "text/html": [
       "<div>\n",
       "<style scoped>\n",
       "    .dataframe tbody tr th:only-of-type {\n",
       "        vertical-align: middle;\n",
       "    }\n",
       "\n",
       "    .dataframe tbody tr th {\n",
       "        vertical-align: top;\n",
       "    }\n",
       "\n",
       "    .dataframe thead th {\n",
       "        text-align: right;\n",
       "    }\n",
       "</style>\n",
       "<table border=\"1\" class=\"dataframe\">\n",
       "  <thead>\n",
       "    <tr style=\"text-align: right;\">\n",
       "      <th></th>\n",
       "      <th>EID</th>\n",
       "      <th>court</th>\n",
       "      <th>content</th>\n",
       "      <th>date</th>\n",
       "      <th>period</th>\n",
       "    </tr>\n",
       "  </thead>\n",
       "  <tbody>\n",
       "    <tr>\n",
       "      <th>0</th>\n",
       "      <td>Q00024</td>\n",
       "      <td>上海市嘉定区人民法院</td>\n",
       "      <td>796964.0</td>\n",
       "      <td>2016-06-22</td>\n",
       "      <td>26</td>\n",
       "    </tr>\n",
       "    <tr>\n",
       "      <th>1</th>\n",
       "      <td>Q00168</td>\n",
       "      <td>江苏省无锡市新吴区人民法院</td>\n",
       "      <td>NaN</td>\n",
       "      <td>2017-08-04</td>\n",
       "      <td>12</td>\n",
       "    </tr>\n",
       "  </tbody>\n",
       "</table>\n",
       "</div>"
      ],
      "text/plain": [
       "      EID          court   content       date  period\n",
       "0  Q00024     上海市嘉定区人民法院  796964.0 2016-06-22      26\n",
       "1  Q00168  江苏省无锡市新吴区人民法院       NaN 2017-08-04      12"
      ]
     },
     "execution_count": 9,
     "metadata": {},
     "output_type": "execute_result"
    }
   ],
   "source": [
    "df7 = pd.read_csv('Desktop/复赛/test/限制高消费名单7.csv')\n",
    "df7.columns = ['EID','court','content','date_type','date']\n",
    "df7.drop('date_type',axis=1,inplace=True)\n",
    "df7['content'] = df7.content.apply(lambda x: ' '.join(str(x).split(':')[1:]))\n",
    "df7.date = pd.to_datetime(df7.date)\n",
    "\n",
    "df7['end'] = pd.to_datetime('2018/8')\n",
    "df7.date = pd.to_datetime(df7.date)\n",
    "df7['period'] = (df7.end.dt.year - df7.date.dt.year) *12 + df7.end.dt.month - df7.date.dt.month\n",
    "df7.drop(['end'], axis=1,inplace=True)\n",
    "\n",
    "df7['content'] = pd.to_numeric(df7.content)\n",
    "df7.head(2)"
   ]
  },
  {
   "cell_type": "code",
   "execution_count": null,
   "metadata": {},
   "outputs": [],
   "source": []
  },
  {
   "cell_type": "code",
   "execution_count": 10,
   "metadata": {},
   "outputs": [
    {
     "data": {
      "text/html": [
       "<div>\n",
       "<style scoped>\n",
       "    .dataframe tbody tr th:only-of-type {\n",
       "        vertical-align: middle;\n",
       "    }\n",
       "\n",
       "    .dataframe tbody tr th {\n",
       "        vertical-align: top;\n",
       "    }\n",
       "\n",
       "    .dataframe thead th {\n",
       "        text-align: right;\n",
       "    }\n",
       "</style>\n",
       "<table border=\"1\" class=\"dataframe\">\n",
       "  <thead>\n",
       "    <tr style=\"text-align: right;\">\n",
       "      <th></th>\n",
       "      <th>EID</th>\n",
       "    </tr>\n",
       "  </thead>\n",
       "  <tbody>\n",
       "    <tr>\n",
       "      <th>0</th>\n",
       "      <td>Q00005</td>\n",
       "    </tr>\n",
       "    <tr>\n",
       "      <th>1</th>\n",
       "      <td>Q00012</td>\n",
       "    </tr>\n",
       "  </tbody>\n",
       "</table>\n",
       "</div>"
      ],
      "text/plain": [
       "      EID\n",
       "0  Q00005\n",
       "1  Q00012"
      ]
     },
     "execution_count": 10,
     "metadata": {},
     "output_type": "execute_result"
    }
   ],
   "source": [
    "df8 = pd.read_csv('Desktop/复赛/train/失信老赖名单8.csv')\n",
    "df8.columns = ['EID']\n",
    "df8.head(2)"
   ]
  },
  {
   "cell_type": "code",
   "execution_count": null,
   "metadata": {},
   "outputs": [],
   "source": []
  },
  {
   "cell_type": "code",
   "execution_count": 10,
   "metadata": {},
   "outputs": [],
   "source": [
    "import featuretools as ft"
   ]
  },
  {
   "cell_type": "code",
   "execution_count": 11,
   "metadata": {},
   "outputs": [],
   "source": [
    "es = ft.EntitySet(id = 'df1')"
   ]
  },
  {
   "cell_type": "code",
   "execution_count": 12,
   "metadata": {},
   "outputs": [],
   "source": [
    "es = es.entity_from_dataframe(\n",
    "    entity_id='df1', dataframe=df1, \n",
    "    variable_types = {'rgcashtype': ft.variable_types.Categorical,\n",
    "                     'etype': ft.variable_types.Categorical,\n",
    "                     'hy': ft.variable_types.Categorical,\n",
    "                     'invcashtype': ft.variable_types.Categorical},\n",
    "    index='EID', time_index='rgdate')"
   ]
  },
  {
   "cell_type": "code",
   "execution_count": 13,
   "metadata": {},
   "outputs": [
    {
     "data": {
      "text/html": [
       "<div>\n",
       "<style scoped>\n",
       "    .dataframe tbody tr th:only-of-type {\n",
       "        vertical-align: middle;\n",
       "    }\n",
       "\n",
       "    .dataframe tbody tr th {\n",
       "        vertical-align: top;\n",
       "    }\n",
       "\n",
       "    .dataframe thead th {\n",
       "        text-align: right;\n",
       "    }\n",
       "</style>\n",
       "<table border=\"1\" class=\"dataframe\">\n",
       "  <thead>\n",
       "    <tr style=\"text-align: right;\">\n",
       "      <th></th>\n",
       "      <th>EID</th>\n",
       "      <th>sue_pos</th>\n",
       "      <th>sue_dep</th>\n",
       "      <th>sue_type</th>\n",
       "      <th>sue_cash</th>\n",
       "      <th>paper_type</th>\n",
       "      <th>proc</th>\n",
       "      <th>end_date</th>\n",
       "      <th>period</th>\n",
       "    </tr>\n",
       "  </thead>\n",
       "  <tbody>\n",
       "    <tr>\n",
       "      <th>0</th>\n",
       "      <td>Q00014</td>\n",
       "      <td>被告</td>\n",
       "      <td>江苏省苏州市相城区人民法院</td>\n",
       "      <td>买卖合同纠纷</td>\n",
       "      <td>142000</td>\n",
       "      <td>民事判决书</td>\n",
       "      <td>一审</td>\n",
       "      <td>2017-05-01</td>\n",
       "      <td>15</td>\n",
       "    </tr>\n",
       "    <tr>\n",
       "      <th>1</th>\n",
       "      <td>Q00014</td>\n",
       "      <td>原告</td>\n",
       "      <td>江苏省苏州市吴江区人民法院</td>\n",
       "      <td>买卖合同纠纷</td>\n",
       "      <td>0</td>\n",
       "      <td>民事裁定书</td>\n",
       "      <td>一审</td>\n",
       "      <td>2015-04-01</td>\n",
       "      <td>40</td>\n",
       "    </tr>\n",
       "  </tbody>\n",
       "</table>\n",
       "</div>"
      ],
      "text/plain": [
       "      EID sue_pos        sue_dep sue_type  sue_cash paper_type proc  \\\n",
       "0  Q00014      被告  江苏省苏州市相城区人民法院   买卖合同纠纷    142000      民事判决书   一审   \n",
       "1  Q00014      原告  江苏省苏州市吴江区人民法院   买卖合同纠纷         0      民事裁定书   一审   \n",
       "\n",
       "    end_date  period  \n",
       "0 2017-05-01      15  \n",
       "1 2015-04-01      40  "
      ]
     },
     "execution_count": 13,
     "metadata": {},
     "output_type": "execute_result"
    }
   ],
   "source": [
    "df2.head(2)"
   ]
  },
  {
   "cell_type": "code",
   "execution_count": 14,
   "metadata": {},
   "outputs": [],
   "source": [
    "es=es.entity_from_dataframe(entity_id='df2',dataframe=df2,\n",
    "                            variable_types={'sue_pos': ft.variable_types.Categorical,\n",
    "                                            'sue_dep': ft.variable_types.Categorical,\n",
    "                                            'sue_type': ft.variable_types.Categorical,\n",
    "                                           'paper_type': ft.variable_types.Categorical,\n",
    "                                           'proc': ft.variable_types.Categorical},\n",
    "                            make_index = True,\n",
    "                            index = 'df2_id',\n",
    "                            time_index = 'end_date' \n",
    "                            )"
   ]
  },
  {
   "cell_type": "code",
   "execution_count": 15,
   "metadata": {},
   "outputs": [
    {
     "data": {
      "text/html": [
       "<div>\n",
       "<style scoped>\n",
       "    .dataframe tbody tr th:only-of-type {\n",
       "        vertical-align: middle;\n",
       "    }\n",
       "\n",
       "    .dataframe tbody tr th {\n",
       "        vertical-align: top;\n",
       "    }\n",
       "\n",
       "    .dataframe thead th {\n",
       "        text-align: right;\n",
       "    }\n",
       "</style>\n",
       "<table border=\"1\" class=\"dataframe\">\n",
       "  <thead>\n",
       "    <tr style=\"text-align: right;\">\n",
       "      <th></th>\n",
       "      <th>EID</th>\n",
       "      <th>sue_pos</th>\n",
       "      <th>sue_dep</th>\n",
       "      <th>sue_type</th>\n",
       "      <th>notice_type</th>\n",
       "      <th>date_type</th>\n",
       "      <th>spec_date</th>\n",
       "      <th>period</th>\n",
       "    </tr>\n",
       "  </thead>\n",
       "  <tbody>\n",
       "    <tr>\n",
       "      <th>0</th>\n",
       "      <td>Q00001</td>\n",
       "      <td>原告</td>\n",
       "      <td>上海市奉贤区人民法院</td>\n",
       "      <td>建设工程施工合同纠纷</td>\n",
       "      <td>开庭信息</td>\n",
       "      <td>开庭时间</td>\n",
       "      <td>2016-06-01</td>\n",
       "      <td>26</td>\n",
       "    </tr>\n",
       "    <tr>\n",
       "      <th>1</th>\n",
       "      <td>Q00014</td>\n",
       "      <td>原告/上诉人</td>\n",
       "      <td>上海市杨浦区人民法院</td>\n",
       "      <td>买卖合同纠纷</td>\n",
       "      <td>开庭信息</td>\n",
       "      <td>开庭时间</td>\n",
       "      <td>2015-08-01</td>\n",
       "      <td>36</td>\n",
       "    </tr>\n",
       "  </tbody>\n",
       "</table>\n",
       "</div>"
      ],
      "text/plain": [
       "      EID sue_pos     sue_dep    sue_type notice_type date_type  spec_date  \\\n",
       "0  Q00001      原告  上海市奉贤区人民法院  建设工程施工合同纠纷        开庭信息      开庭时间 2016-06-01   \n",
       "1  Q00014  原告/上诉人  上海市杨浦区人民法院      买卖合同纠纷        开庭信息      开庭时间 2015-08-01   \n",
       "\n",
       "   period  \n",
       "0      26  \n",
       "1      36  "
      ]
     },
     "execution_count": 15,
     "metadata": {},
     "output_type": "execute_result"
    }
   ],
   "source": [
    "df3.head(2)"
   ]
  },
  {
   "cell_type": "code",
   "execution_count": 16,
   "metadata": {},
   "outputs": [],
   "source": [
    "es=es.entity_from_dataframe(entity_id='df3',dataframe=df3,\n",
    "                            variable_types={'sue_pos': ft.variable_types.Categorical,\n",
    "                                            'sue_dep': ft.variable_types.Categorical,\n",
    "                                            'sue_type': ft.variable_types.Categorical,\n",
    "                                           'notice_type': ft.variable_types.Categorical,\n",
    "                                           'date_type': ft.variable_types.Categorical},\n",
    "                            make_index = True,\n",
    "                            index = 'df3_id',\n",
    "                            time_index = 'spec_date' \n",
    "                            )"
   ]
  },
  {
   "cell_type": "code",
   "execution_count": 17,
   "metadata": {},
   "outputs": [
    {
     "data": {
      "text/html": [
       "<div>\n",
       "<style scoped>\n",
       "    .dataframe tbody tr th:only-of-type {\n",
       "        vertical-align: middle;\n",
       "    }\n",
       "\n",
       "    .dataframe tbody tr th {\n",
       "        vertical-align: top;\n",
       "    }\n",
       "\n",
       "    .dataframe thead th {\n",
       "        text-align: right;\n",
       "    }\n",
       "</style>\n",
       "<table border=\"1\" class=\"dataframe\">\n",
       "  <thead>\n",
       "    <tr style=\"text-align: right;\">\n",
       "      <th></th>\n",
       "      <th>EID</th>\n",
       "      <th>dep</th>\n",
       "      <th>spec_date</th>\n",
       "      <th>period</th>\n",
       "    </tr>\n",
       "  </thead>\n",
       "  <tbody>\n",
       "    <tr>\n",
       "      <th>0</th>\n",
       "      <td>Q00091</td>\n",
       "      <td>昆山市环境保护局</td>\n",
       "      <td>2017-08-01</td>\n",
       "      <td>12</td>\n",
       "    </tr>\n",
       "    <tr>\n",
       "      <th>1</th>\n",
       "      <td>Q00117</td>\n",
       "      <td>经检队（总队、支队、大队）</td>\n",
       "      <td>2014-07-01</td>\n",
       "      <td>49</td>\n",
       "    </tr>\n",
       "  </tbody>\n",
       "</table>\n",
       "</div>"
      ],
      "text/plain": [
       "      EID            dep  spec_date  period\n",
       "0  Q00091       昆山市环境保护局 2017-08-01      12\n",
       "1  Q00117  经检队（总队、支队、大队） 2014-07-01      49"
      ]
     },
     "execution_count": 17,
     "metadata": {},
     "output_type": "execute_result"
    }
   ],
   "source": [
    "df4.head(2)"
   ]
  },
  {
   "cell_type": "code",
   "execution_count": 18,
   "metadata": {},
   "outputs": [],
   "source": [
    "es=es.entity_from_dataframe(entity_id='df4',dataframe=df4,\n",
    "                            variable_types={'dep': ft.variable_types.Categorical},\n",
    "                            make_index = True,\n",
    "                            index = 'df4_id',\n",
    "                            time_index = 'spec_date' \n",
    "                            )"
   ]
  },
  {
   "cell_type": "code",
   "execution_count": 19,
   "metadata": {},
   "outputs": [
    {
     "data": {
      "text/html": [
       "<div>\n",
       "<style scoped>\n",
       "    .dataframe tbody tr th:only-of-type {\n",
       "        vertical-align: middle;\n",
       "    }\n",
       "\n",
       "    .dataframe tbody tr th {\n",
       "        vertical-align: top;\n",
       "    }\n",
       "\n",
       "    .dataframe thead th {\n",
       "        text-align: right;\n",
       "    }\n",
       "</style>\n",
       "<table border=\"1\" class=\"dataframe\">\n",
       "  <thead>\n",
       "    <tr style=\"text-align: right;\">\n",
       "      <th></th>\n",
       "      <th>EID</th>\n",
       "      <th>dep</th>\n",
       "      <th>tax_type</th>\n",
       "      <th>tax_date</th>\n",
       "      <th>tax</th>\n",
       "      <th>spec_date</th>\n",
       "      <th>period</th>\n",
       "    </tr>\n",
       "  </thead>\n",
       "  <tbody>\n",
       "    <tr>\n",
       "      <th>0</th>\n",
       "      <td>Q00024</td>\n",
       "      <td>苏州市国家税务局</td>\n",
       "      <td>企业所得税</td>\n",
       "      <td>NaN</td>\n",
       "      <td>191000</td>\n",
       "      <td>2015-09-01</td>\n",
       "      <td>35</td>\n",
       "    </tr>\n",
       "    <tr>\n",
       "      <th>1</th>\n",
       "      <td>Q00024</td>\n",
       "      <td>苏州市国家税务局</td>\n",
       "      <td>印花税</td>\n",
       "      <td>NaN</td>\n",
       "      <td>12000</td>\n",
       "      <td>2015-09-01</td>\n",
       "      <td>35</td>\n",
       "    </tr>\n",
       "  </tbody>\n",
       "</table>\n",
       "</div>"
      ],
      "text/plain": [
       "      EID       dep tax_type tax_date     tax  spec_date  period\n",
       "0  Q00024  苏州市国家税务局    企业所得税      NaN  191000 2015-09-01      35\n",
       "1  Q00024  苏州市国家税务局      印花税      NaN   12000 2015-09-01      35"
      ]
     },
     "execution_count": 19,
     "metadata": {},
     "output_type": "execute_result"
    }
   ],
   "source": [
    "df5.head(2)"
   ]
  },
  {
   "cell_type": "code",
   "execution_count": 20,
   "metadata": {},
   "outputs": [],
   "source": [
    "es=es.entity_from_dataframe(entity_id='df5',dataframe=df5,\n",
    "                            variable_types={'dep': ft.variable_types.Categorical,\n",
    "                                            'tax_type': ft.variable_types.Categorical,\n",
    "                                            'tax_date': ft.variable_types.Categorical,\n",
    "                                           },\n",
    "                            make_index = True,\n",
    "                            index = 'df5_id',\n",
    "                            time_index = 'spec_date' \n",
    "                            )"
   ]
  },
  {
   "cell_type": "code",
   "execution_count": 21,
   "metadata": {},
   "outputs": [
    {
     "data": {
      "text/html": [
       "<div>\n",
       "<style scoped>\n",
       "    .dataframe tbody tr th:only-of-type {\n",
       "        vertical-align: middle;\n",
       "    }\n",
       "\n",
       "    .dataframe tbody tr th {\n",
       "        vertical-align: top;\n",
       "    }\n",
       "\n",
       "    .dataframe thead th {\n",
       "        text-align: right;\n",
       "    }\n",
       "</style>\n",
       "<table border=\"1\" class=\"dataframe\">\n",
       "  <thead>\n",
       "    <tr style=\"text-align: right;\">\n",
       "      <th></th>\n",
       "      <th>EID</th>\n",
       "      <th>dep</th>\n",
       "      <th>date</th>\n",
       "      <th>period</th>\n",
       "    </tr>\n",
       "  </thead>\n",
       "  <tbody>\n",
       "    <tr>\n",
       "      <th>0</th>\n",
       "      <td>Q00007</td>\n",
       "      <td>苏州地税局第四税务分局</td>\n",
       "      <td>2017-10-01</td>\n",
       "      <td>10</td>\n",
       "    </tr>\n",
       "    <tr>\n",
       "      <th>1</th>\n",
       "      <td>Q00055</td>\n",
       "      <td>NaN</td>\n",
       "      <td>2017-11-01</td>\n",
       "      <td>9</td>\n",
       "    </tr>\n",
       "  </tbody>\n",
       "</table>\n",
       "</div>"
      ],
      "text/plain": [
       "      EID          dep       date  period\n",
       "0  Q00007  苏州地税局第四税务分局 2017-10-01      10\n",
       "1  Q00055          NaN 2017-11-01       9"
      ]
     },
     "execution_count": 21,
     "metadata": {},
     "output_type": "execute_result"
    }
   ],
   "source": [
    "df6.head(2)"
   ]
  },
  {
   "cell_type": "code",
   "execution_count": 22,
   "metadata": {},
   "outputs": [],
   "source": [
    "es=es.entity_from_dataframe(entity_id='df6',dataframe=df6,\n",
    "                            variable_types={'dep': ft.variable_types.Categorical},\n",
    "                            make_index = True,\n",
    "                            index = 'df6_id',\n",
    "                            time_index = 'date' \n",
    "                            )"
   ]
  },
  {
   "cell_type": "code",
   "execution_count": 23,
   "metadata": {},
   "outputs": [
    {
     "data": {
      "text/html": [
       "<div>\n",
       "<style scoped>\n",
       "    .dataframe tbody tr th:only-of-type {\n",
       "        vertical-align: middle;\n",
       "    }\n",
       "\n",
       "    .dataframe tbody tr th {\n",
       "        vertical-align: top;\n",
       "    }\n",
       "\n",
       "    .dataframe thead th {\n",
       "        text-align: right;\n",
       "    }\n",
       "</style>\n",
       "<table border=\"1\" class=\"dataframe\">\n",
       "  <thead>\n",
       "    <tr style=\"text-align: right;\">\n",
       "      <th></th>\n",
       "      <th>EID</th>\n",
       "      <th>court</th>\n",
       "      <th>content</th>\n",
       "      <th>date</th>\n",
       "      <th>period</th>\n",
       "    </tr>\n",
       "  </thead>\n",
       "  <tbody>\n",
       "    <tr>\n",
       "      <th>0</th>\n",
       "      <td>Q00024</td>\n",
       "      <td>上海市嘉定区人民法院</td>\n",
       "      <td>796964.0</td>\n",
       "      <td>2016-06-22</td>\n",
       "      <td>26</td>\n",
       "    </tr>\n",
       "    <tr>\n",
       "      <th>1</th>\n",
       "      <td>Q00168</td>\n",
       "      <td>江苏省无锡市新吴区人民法院</td>\n",
       "      <td>NaN</td>\n",
       "      <td>2017-08-04</td>\n",
       "      <td>12</td>\n",
       "    </tr>\n",
       "  </tbody>\n",
       "</table>\n",
       "</div>"
      ],
      "text/plain": [
       "      EID          court   content       date  period\n",
       "0  Q00024     上海市嘉定区人民法院  796964.0 2016-06-22      26\n",
       "1  Q00168  江苏省无锡市新吴区人民法院       NaN 2017-08-04      12"
      ]
     },
     "execution_count": 23,
     "metadata": {},
     "output_type": "execute_result"
    }
   ],
   "source": [
    "df7.head(2)"
   ]
  },
  {
   "cell_type": "code",
   "execution_count": 24,
   "metadata": {},
   "outputs": [],
   "source": [
    "es=es.entity_from_dataframe(entity_id='df7',dataframe=df7,\n",
    "                            variable_types={'court': ft.variable_types.Categorical},\n",
    "                            make_index = True,\n",
    "                            index = 'df7_id',\n",
    "                            time_index = 'date' \n",
    "                            )"
   ]
  },
  {
   "cell_type": "code",
   "execution_count": 25,
   "metadata": {},
   "outputs": [
    {
     "data": {
      "text/plain": [
       "Entityset: df1\n",
       "  Entities:\n",
       "    df1 [Rows: 12518, Columns: 22]\n",
       "    df2 [Rows: 5498, Columns: 10]\n",
       "    df3 [Rows: 2934, Columns: 9]\n",
       "    df4 [Rows: 300, Columns: 5]\n",
       "    df5 [Rows: 2939, Columns: 8]\n",
       "    df6 [Rows: 219, Columns: 5]\n",
       "    df7 [Rows: 21, Columns: 6]\n",
       "  Relationships:\n",
       "    No relationships"
      ]
     },
     "execution_count": 25,
     "metadata": {},
     "output_type": "execute_result"
    }
   ],
   "source": [
    "es"
   ]
  },
  {
   "cell_type": "code",
   "execution_count": 26,
   "metadata": {},
   "outputs": [
    {
     "data": {
      "text/plain": [
       "Entityset: df1\n",
       "  Entities:\n",
       "    df1 [Rows: 12518, Columns: 22]\n",
       "    df2 [Rows: 5498, Columns: 10]\n",
       "    df3 [Rows: 2934, Columns: 9]\n",
       "    df4 [Rows: 300, Columns: 5]\n",
       "    df5 [Rows: 2939, Columns: 8]\n",
       "    df6 [Rows: 219, Columns: 5]\n",
       "    df7 [Rows: 21, Columns: 6]\n",
       "  Relationships:\n",
       "    df2.EID -> df1.EID\n",
       "    df3.EID -> df1.EID\n",
       "    df4.EID -> df1.EID\n",
       "    df5.EID -> df1.EID\n",
       "    df6.EID -> df1.EID\n",
       "    df7.EID -> df1.EID"
      ]
     },
     "execution_count": 26,
     "metadata": {},
     "output_type": "execute_result"
    }
   ],
   "source": [
    "r2 = ft.Relationship(es['df1']['EID'],\n",
    "                    es['df2']['EID'])\n",
    "\n",
    "r3 = ft.Relationship(es['df1']['EID'],\n",
    "                    es['df3']['EID'])\n",
    "\n",
    "r4 = ft.Relationship(es['df1']['EID'],\n",
    "                    es['df4']['EID'])\n",
    "\n",
    "r5 = ft.Relationship(es['df1']['EID'],\n",
    "                    es['df5']['EID'])\n",
    "\n",
    "r6 = ft.Relationship(es['df1']['EID'],\n",
    "                    es['df6']['EID'])\n",
    "\n",
    "r7 = ft.Relationship(es['df1']['EID'],\n",
    "                    es['df7']['EID'])\n",
    "\n",
    "es = es.add_relationship(r2)\n",
    "es = es.add_relationship(r3)\n",
    "es = es.add_relationship(r4)\n",
    "es = es.add_relationship(r5)\n",
    "es = es.add_relationship(r6)\n",
    "es = es.add_relationship(r7)\n",
    "\n",
    "es"
   ]
  },
  {
   "cell_type": "code",
   "execution_count": 27,
   "metadata": {},
   "outputs": [
    {
     "data": {
      "text/html": [
       "<div>\n",
       "<style scoped>\n",
       "    .dataframe tbody tr th:only-of-type {\n",
       "        vertical-align: middle;\n",
       "    }\n",
       "\n",
       "    .dataframe tbody tr th {\n",
       "        vertical-align: top;\n",
       "    }\n",
       "\n",
       "    .dataframe thead th {\n",
       "        text-align: right;\n",
       "    }\n",
       "</style>\n",
       "<table border=\"1\" class=\"dataframe\">\n",
       "  <thead>\n",
       "    <tr style=\"text-align: right;\">\n",
       "      <th></th>\n",
       "      <th>name</th>\n",
       "      <th>type</th>\n",
       "      <th>description</th>\n",
       "    </tr>\n",
       "  </thead>\n",
       "  <tbody>\n",
       "    <tr>\n",
       "      <th>0</th>\n",
       "      <td>num_unique</td>\n",
       "      <td>aggregation</td>\n",
       "      <td>Returns the number of unique categorical variables.</td>\n",
       "    </tr>\n",
       "    <tr>\n",
       "      <th>1</th>\n",
       "      <td>all</td>\n",
       "      <td>aggregation</td>\n",
       "      <td>Test if all values are 'True'.</td>\n",
       "    </tr>\n",
       "    <tr>\n",
       "      <th>2</th>\n",
       "      <td>n_most_common</td>\n",
       "      <td>aggregation</td>\n",
       "      <td>Finds the N most common elements in a categorical feature.</td>\n",
       "    </tr>\n",
       "    <tr>\n",
       "      <th>3</th>\n",
       "      <td>max</td>\n",
       "      <td>aggregation</td>\n",
       "      <td>Finds the maximum non-null value of a numeric feature.</td>\n",
       "    </tr>\n",
       "    <tr>\n",
       "      <th>4</th>\n",
       "      <td>any</td>\n",
       "      <td>aggregation</td>\n",
       "      <td>Test if any value is 'True'.</td>\n",
       "    </tr>\n",
       "    <tr>\n",
       "      <th>5</th>\n",
       "      <td>min</td>\n",
       "      <td>aggregation</td>\n",
       "      <td>Finds the minimum non-null value of a numeric feature.</td>\n",
       "    </tr>\n",
       "    <tr>\n",
       "      <th>6</th>\n",
       "      <td>last</td>\n",
       "      <td>aggregation</td>\n",
       "      <td>Returns the last value.</td>\n",
       "    </tr>\n",
       "    <tr>\n",
       "      <th>7</th>\n",
       "      <td>time_since_last</td>\n",
       "      <td>aggregation</td>\n",
       "      <td>Time since last related instance.</td>\n",
       "    </tr>\n",
       "    <tr>\n",
       "      <th>8</th>\n",
       "      <td>std</td>\n",
       "      <td>aggregation</td>\n",
       "      <td>Finds the standard deviation of a numeric feature ignoring null values.</td>\n",
       "    </tr>\n",
       "    <tr>\n",
       "      <th>9</th>\n",
       "      <td>mode</td>\n",
       "      <td>aggregation</td>\n",
       "      <td>Finds the most common element in a categorical feature.</td>\n",
       "    </tr>\n",
       "  </tbody>\n",
       "</table>\n",
       "</div>"
      ],
      "text/plain": [
       "              name         type  \\\n",
       "0       num_unique  aggregation   \n",
       "1              all  aggregation   \n",
       "2    n_most_common  aggregation   \n",
       "3              max  aggregation   \n",
       "4              any  aggregation   \n",
       "5              min  aggregation   \n",
       "6             last  aggregation   \n",
       "7  time_since_last  aggregation   \n",
       "8              std  aggregation   \n",
       "9             mode  aggregation   \n",
       "\n",
       "                                                               description  \n",
       "0                      Returns the number of unique categorical variables.  \n",
       "1                                           Test if all values are 'True'.  \n",
       "2               Finds the N most common elements in a categorical feature.  \n",
       "3                   Finds the maximum non-null value of a numeric feature.  \n",
       "4                                             Test if any value is 'True'.  \n",
       "5                   Finds the minimum non-null value of a numeric feature.  \n",
       "6                                                  Returns the last value.  \n",
       "7                                        Time since last related instance.  \n",
       "8  Finds the standard deviation of a numeric feature ignoring null values.  \n",
       "9                  Finds the most common element in a categorical feature.  "
      ]
     },
     "execution_count": 27,
     "metadata": {},
     "output_type": "execute_result"
    }
   ],
   "source": [
    "primitives = ft.list_primitives()\n",
    "pd.options.display.max_colwidth = 100\n",
    "primitives[primitives['type'] == 'aggregation'].head(10)"
   ]
  },
  {
   "cell_type": "code",
   "execution_count": 28,
   "metadata": {},
   "outputs": [
    {
     "data": {
      "text/html": [
       "<div>\n",
       "<style scoped>\n",
       "    .dataframe tbody tr th:only-of-type {\n",
       "        vertical-align: middle;\n",
       "    }\n",
       "\n",
       "    .dataframe tbody tr th {\n",
       "        vertical-align: top;\n",
       "    }\n",
       "\n",
       "    .dataframe thead th {\n",
       "        text-align: right;\n",
       "    }\n",
       "</style>\n",
       "<table border=\"1\" class=\"dataframe\">\n",
       "  <thead>\n",
       "    <tr style=\"text-align: right;\">\n",
       "      <th></th>\n",
       "      <th>name</th>\n",
       "      <th>type</th>\n",
       "      <th>description</th>\n",
       "    </tr>\n",
       "  </thead>\n",
       "  <tbody>\n",
       "    <tr>\n",
       "      <th>19</th>\n",
       "      <td>week</td>\n",
       "      <td>transform</td>\n",
       "      <td>Transform a Datetime feature into the week.</td>\n",
       "    </tr>\n",
       "    <tr>\n",
       "      <th>20</th>\n",
       "      <td>or</td>\n",
       "      <td>transform</td>\n",
       "      <td>For two boolean values, determine if one value is 'True'.</td>\n",
       "    </tr>\n",
       "    <tr>\n",
       "      <th>21</th>\n",
       "      <td>add</td>\n",
       "      <td>transform</td>\n",
       "      <td>Creates a transform feature that adds two features.</td>\n",
       "    </tr>\n",
       "    <tr>\n",
       "      <th>22</th>\n",
       "      <td>isin</td>\n",
       "      <td>transform</td>\n",
       "      <td>For each value of the base feature, checks whether it is in a provided list.</td>\n",
       "    </tr>\n",
       "    <tr>\n",
       "      <th>23</th>\n",
       "      <td>hour</td>\n",
       "      <td>transform</td>\n",
       "      <td>Transform a Datetime feature into the hour.</td>\n",
       "    </tr>\n",
       "    <tr>\n",
       "      <th>24</th>\n",
       "      <td>longitude</td>\n",
       "      <td>transform</td>\n",
       "      <td>Returns the second value on the tuple base feature.</td>\n",
       "    </tr>\n",
       "    <tr>\n",
       "      <th>25</th>\n",
       "      <td>minute</td>\n",
       "      <td>transform</td>\n",
       "      <td>Transform a Datetime feature into the minute.</td>\n",
       "    </tr>\n",
       "    <tr>\n",
       "      <th>26</th>\n",
       "      <td>percentile</td>\n",
       "      <td>transform</td>\n",
       "      <td>For each value of the base feature, determines the percentile in relation</td>\n",
       "    </tr>\n",
       "    <tr>\n",
       "      <th>27</th>\n",
       "      <td>time_since</td>\n",
       "      <td>transform</td>\n",
       "      <td>Calculates time since the cutoff time.</td>\n",
       "    </tr>\n",
       "    <tr>\n",
       "      <th>28</th>\n",
       "      <td>day</td>\n",
       "      <td>transform</td>\n",
       "      <td>Transform a Datetime feature into the day.</td>\n",
       "    </tr>\n",
       "  </tbody>\n",
       "</table>\n",
       "</div>"
      ],
      "text/plain": [
       "          name       type  \\\n",
       "19        week  transform   \n",
       "20          or  transform   \n",
       "21         add  transform   \n",
       "22        isin  transform   \n",
       "23        hour  transform   \n",
       "24   longitude  transform   \n",
       "25      minute  transform   \n",
       "26  percentile  transform   \n",
       "27  time_since  transform   \n",
       "28         day  transform   \n",
       "\n",
       "                                                                     description  \n",
       "19                                   Transform a Datetime feature into the week.  \n",
       "20                     For two boolean values, determine if one value is 'True'.  \n",
       "21                           Creates a transform feature that adds two features.  \n",
       "22  For each value of the base feature, checks whether it is in a provided list.  \n",
       "23                                   Transform a Datetime feature into the hour.  \n",
       "24                           Returns the second value on the tuple base feature.  \n",
       "25                                 Transform a Datetime feature into the minute.  \n",
       "26     For each value of the base feature, determines the percentile in relation  \n",
       "27                                        Calculates time since the cutoff time.  \n",
       "28                                    Transform a Datetime feature into the day.  "
      ]
     },
     "execution_count": 28,
     "metadata": {},
     "output_type": "execute_result"
    }
   ],
   "source": [
    "primitives[primitives['type'] == 'transform'].head(10)"
   ]
  },
  {
   "cell_type": "code",
   "execution_count": 29,
   "metadata": {},
   "outputs": [],
   "source": [
    "features, feature_names = ft.dfs(entityset=es, target_entity='df1', max_depth=2 )"
   ]
  },
  {
   "cell_type": "code",
   "execution_count": 30,
   "metadata": {},
   "outputs": [
    {
     "data": {
      "text/plain": [
       "(12518, 164)"
      ]
     },
     "execution_count": 30,
     "metadata": {},
     "output_type": "execute_result"
    }
   ],
   "source": [
    "features.shape"
   ]
  },
  {
   "cell_type": "code",
   "execution_count": 31,
   "metadata": {},
   "outputs": [],
   "source": [
    "features.to_csv('Desktop/fusai_data/test.csv',index=False)"
   ]
  },
  {
   "cell_type": "code",
   "execution_count": null,
   "metadata": {},
   "outputs": [],
   "source": []
  },
  {
   "cell_type": "code",
   "execution_count": null,
   "metadata": {},
   "outputs": [],
   "source": []
  },
  {
   "cell_type": "markdown",
   "metadata": {},
   "source": [
    "# feature_all"
   ]
  },
  {
   "cell_type": "code",
   "execution_count": 2,
   "metadata": {},
   "outputs": [],
   "source": [
    "import warnings\n",
    "warnings.filterwarnings(\"ignore\")\n",
    "import pandas as pd\n",
    "train = pd.read_csv('Desktop/fusai_data/train.csv')\n",
    "test = pd.read_csv('Desktop/fusai_data/test.csv')"
   ]
  },
  {
   "cell_type": "code",
   "execution_count": 3,
   "metadata": {},
   "outputs": [
    {
     "data": {
      "text/plain": [
       "(20250, 164)"
      ]
     },
     "execution_count": 3,
     "metadata": {},
     "output_type": "execute_result"
    }
   ],
   "source": [
    "train.shape"
   ]
  },
  {
   "cell_type": "code",
   "execution_count": 4,
   "metadata": {},
   "outputs": [
    {
     "data": {
      "text/plain": [
       "(12518, 164)"
      ]
     },
     "execution_count": 4,
     "metadata": {},
     "output_type": "execute_result"
    }
   ],
   "source": [
    "test.shape"
   ]
  },
  {
   "cell_type": "code",
   "execution_count": 8,
   "metadata": {},
   "outputs": [
    {
     "data": {
      "text/html": [
       "<div>\n",
       "<style scoped>\n",
       "    .dataframe tbody tr th:only-of-type {\n",
       "        vertical-align: middle;\n",
       "    }\n",
       "\n",
       "    .dataframe tbody tr th {\n",
       "        vertical-align: top;\n",
       "    }\n",
       "\n",
       "    .dataframe thead th {\n",
       "        text-align: right;\n",
       "    }\n",
       "</style>\n",
       "<table border=\"1\" class=\"dataframe\">\n",
       "  <thead>\n",
       "    <tr style=\"text-align: right;\">\n",
       "      <th></th>\n",
       "      <th>EID</th>\n",
       "    </tr>\n",
       "  </thead>\n",
       "  <tbody>\n",
       "    <tr>\n",
       "      <th>0</th>\n",
       "      <td>Q00005</td>\n",
       "    </tr>\n",
       "    <tr>\n",
       "      <th>1</th>\n",
       "      <td>Q00012</td>\n",
       "    </tr>\n",
       "  </tbody>\n",
       "</table>\n",
       "</div>"
      ],
      "text/plain": [
       "      EID\n",
       "0  Q00005\n",
       "1  Q00012"
      ]
     },
     "execution_count": 8,
     "metadata": {},
     "output_type": "execute_result"
    }
   ],
   "source": [
    "df8 = pd.read_csv('Desktop/复赛/train/失信老赖名单8.csv')\n",
    "df8.columns = ['EID']\n",
    "df8.head(2)"
   ]
  },
  {
   "cell_type": "code",
   "execution_count": 9,
   "metadata": {},
   "outputs": [
    {
     "data": {
      "text/html": [
       "<div>\n",
       "<style scoped>\n",
       "    .dataframe tbody tr th:only-of-type {\n",
       "        vertical-align: middle;\n",
       "    }\n",
       "\n",
       "    .dataframe tbody tr th {\n",
       "        vertical-align: top;\n",
       "    }\n",
       "\n",
       "    .dataframe thead th {\n",
       "        text-align: right;\n",
       "    }\n",
       "</style>\n",
       "<table border=\"1\" class=\"dataframe\">\n",
       "  <thead>\n",
       "    <tr style=\"text-align: right;\">\n",
       "      <th></th>\n",
       "      <th>EID</th>\n",
       "      <th>labels</th>\n",
       "    </tr>\n",
       "  </thead>\n",
       "  <tbody>\n",
       "    <tr>\n",
       "      <th>0</th>\n",
       "      <td>Q00005</td>\n",
       "      <td>1</td>\n",
       "    </tr>\n",
       "    <tr>\n",
       "      <th>1</th>\n",
       "      <td>Q00012</td>\n",
       "      <td>1</td>\n",
       "    </tr>\n",
       "  </tbody>\n",
       "</table>\n",
       "</div>"
      ],
      "text/plain": [
       "      EID  labels\n",
       "0  Q00005       1\n",
       "1  Q00012       1"
      ]
     },
     "execution_count": 9,
     "metadata": {},
     "output_type": "execute_result"
    }
   ],
   "source": [
    "df8['labels'] = 1\n",
    "df8.head(2)"
   ]
  },
  {
   "cell_type": "code",
   "execution_count": 10,
   "metadata": {},
   "outputs": [],
   "source": [
    "org_train = pd.read_csv('Desktop/复赛/train/企业基本信息1.csv')\n",
    "org_train.columns = ['EID', 'rgcash', 'rgcashtype', 'etype', 'hy',\n",
    "               'xkjy', 'ybjy', 'jyfw', 'rgdate', 'pnum', 'invnum', 'invcashtype']"
   ]
  },
  {
   "cell_type": "code",
   "execution_count": 11,
   "metadata": {},
   "outputs": [],
   "source": [
    "train_EID = org_train.EID\n",
    "train_EID.columns = ['EID']"
   ]
  },
  {
   "cell_type": "code",
   "execution_count": 12,
   "metadata": {},
   "outputs": [],
   "source": [
    "org_test = pd.read_csv('Desktop/复赛/test/企业基本信息1.csv')\n",
    "org_test.columns = ['EID', 'rgcash', 'rgcashtype', 'etype', 'hy',\n",
    "               'xkjy', 'ybjy', 'jyfw', 'rgdate', 'pnum', 'invnum', 'invcashtype']"
   ]
  },
  {
   "cell_type": "code",
   "execution_count": 13,
   "metadata": {},
   "outputs": [],
   "source": [
    "test_EID = org_test.EID\n",
    "test_EID.columns = ['EID']"
   ]
  },
  {
   "cell_type": "code",
   "execution_count": 14,
   "metadata": {},
   "outputs": [
    {
     "data": {
      "text/plain": [
       "(20250, 165)"
      ]
     },
     "execution_count": 14,
     "metadata": {},
     "output_type": "execute_result"
    }
   ],
   "source": [
    "train['EID'] = train_EID\n",
    "train.shape"
   ]
  },
  {
   "cell_type": "code",
   "execution_count": 15,
   "metadata": {},
   "outputs": [
    {
     "data": {
      "text/plain": [
       "(12518, 165)"
      ]
     },
     "execution_count": 15,
     "metadata": {},
     "output_type": "execute_result"
    }
   ],
   "source": [
    "test['EID'] = test_EID\n",
    "test.shape"
   ]
  },
  {
   "cell_type": "code",
   "execution_count": 16,
   "metadata": {},
   "outputs": [],
   "source": [
    "train = pd.merge(train,df8,on='EID',how='left')"
   ]
  },
  {
   "cell_type": "code",
   "execution_count": 17,
   "metadata": {},
   "outputs": [
    {
     "data": {
      "text/plain": [
       "(20250, 166)"
      ]
     },
     "execution_count": 17,
     "metadata": {},
     "output_type": "execute_result"
    }
   ],
   "source": [
    "train.shape"
   ]
  },
  {
   "cell_type": "code",
   "execution_count": 18,
   "metadata": {},
   "outputs": [
    {
     "data": {
      "text/plain": [
       "0.0    19862\n",
       "1.0      388\n",
       "Name: labels, dtype: int64"
      ]
     },
     "execution_count": 18,
     "metadata": {},
     "output_type": "execute_result"
    }
   ],
   "source": [
    "train['labels'] = train.labels.fillna(0)\n",
    "train.labels.value_counts()"
   ]
  },
  {
   "cell_type": "code",
   "execution_count": 19,
   "metadata": {},
   "outputs": [],
   "source": [
    "labels = train.labels"
   ]
  },
  {
   "cell_type": "code",
   "execution_count": 20,
   "metadata": {},
   "outputs": [],
   "source": [
    "train.drop(['labels'],axis=1,inplace=True)"
   ]
  },
  {
   "cell_type": "code",
   "execution_count": 21,
   "metadata": {},
   "outputs": [],
   "source": [
    "all_feat = pd.concat([train, test]).reset_index(drop=True)"
   ]
  },
  {
   "cell_type": "code",
   "execution_count": 22,
   "metadata": {},
   "outputs": [
    {
     "data": {
      "text/plain": [
       "(32768, 165)"
      ]
     },
     "execution_count": 22,
     "metadata": {},
     "output_type": "execute_result"
    }
   ],
   "source": [
    "all_feat.shape"
   ]
  },
  {
   "cell_type": "code",
   "execution_count": 23,
   "metadata": {},
   "outputs": [],
   "source": [
    "all_feat.fillna(0,inplace=True)"
   ]
  },
  {
   "cell_type": "code",
   "execution_count": 24,
   "metadata": {},
   "outputs": [],
   "source": [
    "all_feat['EID'] = all_feat['EID'].apply(lambda x: int(x[1:]))"
   ]
  },
  {
   "cell_type": "code",
   "execution_count": 25,
   "metadata": {},
   "outputs": [
    {
     "data": {
      "text/html": [
       "<div>\n",
       "<style scoped>\n",
       "    .dataframe tbody tr th:only-of-type {\n",
       "        vertical-align: middle;\n",
       "    }\n",
       "\n",
       "    .dataframe tbody tr th {\n",
       "        vertical-align: top;\n",
       "    }\n",
       "\n",
       "    .dataframe thead th {\n",
       "        text-align: right;\n",
       "    }\n",
       "</style>\n",
       "<table border=\"1\" class=\"dataframe\">\n",
       "  <thead>\n",
       "    <tr style=\"text-align: right;\">\n",
       "      <th></th>\n",
       "      <th>COUNT(df2)</th>\n",
       "      <th>COUNT(df3)</th>\n",
       "      <th>COUNT(df4)</th>\n",
       "      <th>COUNT(df5)</th>\n",
       "      <th>COUNT(df6)</th>\n",
       "      <th>COUNT(df7)</th>\n",
       "      <th>DAY(rgdate)</th>\n",
       "      <th>EID</th>\n",
       "      <th>MAX(df2.period)</th>\n",
       "      <th>MAX(df2.sue_cash)</th>\n",
       "      <th>...</th>\n",
       "      <th>rgcash</th>\n",
       "      <th>rgcashtype</th>\n",
       "      <th>xkjy_tfidf_max</th>\n",
       "      <th>xkjy_tfidf_mean</th>\n",
       "      <th>xkjy_tfidf_std</th>\n",
       "      <th>xkjy_tfidf_sum</th>\n",
       "      <th>ybjy_tfidf_max</th>\n",
       "      <th>ybjy_tfidf_mean</th>\n",
       "      <th>ybjy_tfidf_std</th>\n",
       "      <th>ybjy_tfidf_sum</th>\n",
       "    </tr>\n",
       "  </thead>\n",
       "  <tbody>\n",
       "    <tr>\n",
       "      <th>0</th>\n",
       "      <td>7.0</td>\n",
       "      <td>3.0</td>\n",
       "      <td>0.0</td>\n",
       "      <td>0.0</td>\n",
       "      <td>0.0</td>\n",
       "      <td>0.0</td>\n",
       "      <td>25</td>\n",
       "      <td>2</td>\n",
       "      <td>52.0</td>\n",
       "      <td>3139000.0</td>\n",
       "      <td>...</td>\n",
       "      <td>220</td>\n",
       "      <td>人民币元</td>\n",
       "      <td>0.291291</td>\n",
       "      <td>0.000564</td>\n",
       "      <td>0.010664</td>\n",
       "      <td>4.949267</td>\n",
       "      <td>0.291292</td>\n",
       "      <td>0.000564</td>\n",
       "      <td>0.010663</td>\n",
       "      <td>4.949267</td>\n",
       "    </tr>\n",
       "    <tr>\n",
       "      <th>1</th>\n",
       "      <td>4.0</td>\n",
       "      <td>0.0</td>\n",
       "      <td>0.0</td>\n",
       "      <td>0.0</td>\n",
       "      <td>0.0</td>\n",
       "      <td>0.0</td>\n",
       "      <td>13</td>\n",
       "      <td>4</td>\n",
       "      <td>30.0</td>\n",
       "      <td>187000.0</td>\n",
       "      <td>...</td>\n",
       "      <td>55</td>\n",
       "      <td>人民币元</td>\n",
       "      <td>0.467066</td>\n",
       "      <td>0.000363</td>\n",
       "      <td>0.010673</td>\n",
       "      <td>3.186595</td>\n",
       "      <td>0.467073</td>\n",
       "      <td>0.000363</td>\n",
       "      <td>0.010672</td>\n",
       "      <td>3.186513</td>\n",
       "    </tr>\n",
       "  </tbody>\n",
       "</table>\n",
       "<p>2 rows × 165 columns</p>\n",
       "</div>"
      ],
      "text/plain": [
       "   COUNT(df2)  COUNT(df3)  COUNT(df4)  COUNT(df5)  COUNT(df6)  COUNT(df7)  \\\n",
       "0         7.0         3.0         0.0         0.0         0.0         0.0   \n",
       "1         4.0         0.0         0.0         0.0         0.0         0.0   \n",
       "\n",
       "   DAY(rgdate)  EID  MAX(df2.period)  MAX(df2.sue_cash)       ...        \\\n",
       "0           25    2             52.0          3139000.0       ...         \n",
       "1           13    4             30.0           187000.0       ...         \n",
       "\n",
       "   rgcash  rgcashtype  xkjy_tfidf_max  xkjy_tfidf_mean  xkjy_tfidf_std  \\\n",
       "0     220        人民币元        0.291291         0.000564        0.010664   \n",
       "1      55        人民币元        0.467066         0.000363        0.010673   \n",
       "\n",
       "   xkjy_tfidf_sum  ybjy_tfidf_max  ybjy_tfidf_mean  ybjy_tfidf_std  \\\n",
       "0        4.949267        0.291292         0.000564        0.010663   \n",
       "1        3.186595        0.467073         0.000363        0.010672   \n",
       "\n",
       "   ybjy_tfidf_sum  \n",
       "0        4.949267  \n",
       "1        3.186513  \n",
       "\n",
       "[2 rows x 165 columns]"
      ]
     },
     "execution_count": 25,
     "metadata": {},
     "output_type": "execute_result"
    }
   ],
   "source": [
    "all_feat.head(2)"
   ]
  },
  {
   "cell_type": "code",
   "execution_count": 26,
   "metadata": {},
   "outputs": [],
   "source": [
    "all_feat = pd.get_dummies(all_feat)"
   ]
  },
  {
   "cell_type": "code",
   "execution_count": 27,
   "metadata": {},
   "outputs": [],
   "source": [
    "train_count = train.shape[0]\n",
    "test_count = test.shape[0]\n",
    "\n",
    "train_feat = all_feat[:train_count].reset_index(drop=True)\n",
    "test_feat = all_feat[-test_count:].reset_index(drop=True)"
   ]
  },
  {
   "cell_type": "code",
   "execution_count": 28,
   "metadata": {},
   "outputs": [
    {
     "data": {
      "text/plain": [
       "(20250, 1763)"
      ]
     },
     "execution_count": 28,
     "metadata": {},
     "output_type": "execute_result"
    }
   ],
   "source": [
    "train_feat.shape"
   ]
  },
  {
   "cell_type": "code",
   "execution_count": 29,
   "metadata": {},
   "outputs": [
    {
     "data": {
      "text/plain": [
       "(12518, 1763)"
      ]
     },
     "execution_count": 29,
     "metadata": {},
     "output_type": "execute_result"
    }
   ],
   "source": [
    "test_feat.shape"
   ]
  },
  {
   "cell_type": "markdown",
   "metadata": {},
   "source": [
    "# upsampling"
   ]
  },
  {
   "cell_type": "code",
   "execution_count": 78,
   "metadata": {},
   "outputs": [
    {
     "data": {
      "text/plain": [
       "1.0    19882\n",
       "0.0    19882\n",
       "Name: labels, dtype: int64"
      ]
     },
     "execution_count": 78,
     "metadata": {},
     "output_type": "execute_result"
    }
   ],
   "source": [
    "d = pd.concat([train_feat,labels],axis=1)\n",
    "\n",
    "from sklearn.utils import resample\n",
    "\n",
    "d_majority = d[d.labels==0]\n",
    "d_minority = d[d.labels==1]\n",
    "\n",
    "d_minority_upsampled = resample(d_minority,\n",
    "                               replace=True,\n",
    "                               n_samples=19882,\n",
    "                               random_state=456)\n",
    "\n",
    "d_upsampled = pd.concat([d_majority,d_minority_upsampled])\n",
    "\n",
    "d_upsampled.labels.value_counts()"
   ]
  },
  {
   "cell_type": "code",
   "execution_count": 79,
   "metadata": {},
   "outputs": [],
   "source": [
    "train_feat = d_upsampled.drop('labels',axis=1)\n",
    "labels = d_upsampled.labels"
   ]
  },
  {
   "cell_type": "markdown",
   "metadata": {},
   "source": [
    "# downsampling"
   ]
  },
  {
   "cell_type": "code",
   "execution_count": 28,
   "metadata": {},
   "outputs": [],
   "source": [
    "d = pd.concat([train_feat,labels],axis=1)"
   ]
  },
  {
   "cell_type": "code",
   "execution_count": 29,
   "metadata": {},
   "outputs": [
    {
     "data": {
      "text/plain": [
       "1.0    368\n",
       "0.0    368\n",
       "Name: labels, dtype: int64"
      ]
     },
     "execution_count": 29,
     "metadata": {},
     "output_type": "execute_result"
    }
   ],
   "source": [
    "from sklearn.utils import resample\n",
    "\n",
    "d_majority = d[d.labels==0]\n",
    "d_minority = d[d.labels==1]\n",
    "\n",
    "d_majority_downsampled = resample(d_majority,\n",
    "                               replace=True,\n",
    "                               n_samples=368,\n",
    "                               random_state=456)\n",
    "\n",
    "d_downsampled = pd.concat([d_majority_downsampled,d_minority])\n",
    "\n",
    "d_downsampled.labels.value_counts()"
   ]
  },
  {
   "cell_type": "code",
   "execution_count": 30,
   "metadata": {},
   "outputs": [],
   "source": [
    "train_feat = d_downsampled.drop('labels',axis=1)\n",
    "labels = d_downsampled.labels"
   ]
  },
  {
   "cell_type": "code",
   "execution_count": 31,
   "metadata": {},
   "outputs": [
    {
     "data": {
      "text/plain": [
       "((736, 1701), (736,))"
      ]
     },
     "execution_count": 31,
     "metadata": {},
     "output_type": "execute_result"
    }
   ],
   "source": [
    "train_feat.shape,labels.shape"
   ]
  },
  {
   "cell_type": "markdown",
   "metadata": {},
   "source": [
    "# feature selection"
   ]
  },
  {
   "cell_type": "code",
   "execution_count": 26,
   "metadata": {},
   "outputs": [],
   "source": [
    "from sklearn.feature_selection import SelectFromModel\n",
    "from sklearn.ensemble import RandomForestClassifier"
   ]
  },
  {
   "cell_type": "code",
   "execution_count": 27,
   "metadata": {},
   "outputs": [],
   "source": [
    "clf = RandomForestClassifier(n_estimators=100,max_features='sqrt')\n",
    "clf = clf.fit(train_feat, labels)"
   ]
  },
  {
   "cell_type": "code",
   "execution_count": 28,
   "metadata": {},
   "outputs": [
    {
     "name": "stdout",
     "output_type": "stream",
     "text": [
      "(40500, 181)\n"
     ]
    }
   ],
   "source": [
    "model = SelectFromModel(clf, prefit=True)\n",
    "train_reduced = model.transform(train_feat)\n",
    "print(train_reduced.shape)"
   ]
  },
  {
   "cell_type": "code",
   "execution_count": 29,
   "metadata": {},
   "outputs": [
    {
     "name": "stdout",
     "output_type": "stream",
     "text": [
      "(12518, 181)\n"
     ]
    }
   ],
   "source": [
    "test_reduced = model.transform(test_feat)\n",
    "print(test_reduced.shape)"
   ]
  },
  {
   "cell_type": "code",
   "execution_count": 31,
   "metadata": {},
   "outputs": [],
   "source": [
    "from sklearn.model_selection import train_test_split"
   ]
  },
  {
   "cell_type": "code",
   "execution_count": 33,
   "metadata": {},
   "outputs": [],
   "source": [
    "train_x,test_x,train_y,test_y = train_test_split(train_feat,labels,test_size = 0.3)"
   ]
  },
  {
   "cell_type": "code",
   "execution_count": 36,
   "metadata": {},
   "outputs": [
    {
     "data": {
      "text/plain": [
       "((14175, 1763), (6075, 1763), (14175,), (6075,))"
      ]
     },
     "execution_count": 36,
     "metadata": {},
     "output_type": "execute_result"
    }
   ],
   "source": [
    "train_x.shape,test_x.shape,train_y.shape,test_y.shape"
   ]
  },
  {
   "cell_type": "code",
   "execution_count": null,
   "metadata": {},
   "outputs": [],
   "source": []
  },
  {
   "cell_type": "code",
   "execution_count": null,
   "metadata": {},
   "outputs": [],
   "source": []
  },
  {
   "cell_type": "code",
   "execution_count": null,
   "metadata": {},
   "outputs": [],
   "source": []
  },
  {
   "cell_type": "markdown",
   "metadata": {},
   "source": [
    "# xgboost"
   ]
  },
  {
   "cell_type": "code",
   "execution_count": 32,
   "metadata": {},
   "outputs": [],
   "source": [
    "import xgboost as xgb"
   ]
  },
  {
   "cell_type": "code",
   "execution_count": 33,
   "metadata": {},
   "outputs": [],
   "source": [
    "params={\n",
    " #   'booster':'gbtree',\n",
    " #   'objective':'binary:logistic',\n",
    " #   'eval_metric': 'auc',\n",
    " #   'learning_rate':0.1,\n",
    " #   'n_estimators':100,\n",
    " #   'max_depth':10,\n",
    " #   'gamma':0,\n",
    " #   'subsample':0.8,\n",
    " #   'colsample_bytree':0.8,\n",
    " #   'scale_pos_weight':1,\n",
    " #   'seed':27,\n",
    " #   'nthread':8,\n",
    " #   'silent':1\n",
    "    \n",
    "    \n",
    "    \n",
    "    \n",
    "    'booster':'gbtree',\n",
    "    'objective':'binary:logistic',\n",
    "    'eval_metric': 'auc',\n",
    "    'gamma':0,\n",
    "    'max_depth':10,\n",
    "    'subsample':0.7,\n",
    "    'colsample_bytree':0.7,\n",
    "    'stratified':True,\n",
    "    'min_child_weight':15,\n",
    "    'learning_rate':0.1,\n",
    "    'seed':20,\n",
    "    'silent':1\n",
    "}"
   ]
  },
  {
   "cell_type": "code",
   "execution_count": 43,
   "metadata": {},
   "outputs": [],
   "source": [
    "dtrain = xgb.DMatrix(train_feat,label=labels)\n",
    "dtest = xgb.DMatrix(test_feat)"
   ]
  },
  {
   "cell_type": "code",
   "execution_count": 44,
   "metadata": {},
   "outputs": [],
   "source": [
    "res = xgb.cv(params,dtrain,num_boost_round=2000,nfold=5,early_stopping_rounds=50)"
   ]
  },
  {
   "cell_type": "code",
   "execution_count": 45,
   "metadata": {},
   "outputs": [
    {
     "name": "stdout",
     "output_type": "stream",
     "text": [
      "[0]\ttrain-auc:0.615439\n",
      "[1]\ttrain-auc:0.897206\n",
      "[2]\ttrain-auc:0.905379\n",
      "[3]\ttrain-auc:0.911569\n",
      "[4]\ttrain-auc:0.91111\n",
      "[5]\ttrain-auc:0.916664\n",
      "[6]\ttrain-auc:0.916674\n",
      "[7]\ttrain-auc:0.917068\n",
      "[8]\ttrain-auc:0.922005\n",
      "[9]\ttrain-auc:0.928036\n",
      "[10]\ttrain-auc:0.927768\n",
      "[11]\ttrain-auc:0.933008\n",
      "[12]\ttrain-auc:0.936921\n",
      "[13]\ttrain-auc:0.938656\n",
      "[14]\ttrain-auc:0.942582\n",
      "[15]\ttrain-auc:0.945021\n",
      "[16]\ttrain-auc:0.945289\n",
      "[17]\ttrain-auc:0.945636\n",
      "[18]\ttrain-auc:0.946593\n",
      "[19]\ttrain-auc:0.948296\n",
      "[20]\ttrain-auc:0.948879\n",
      "[21]\ttrain-auc:0.950032\n",
      "[22]\ttrain-auc:0.951948\n",
      "[23]\ttrain-auc:0.952439\n",
      "[24]\ttrain-auc:0.95378\n",
      "[25]\ttrain-auc:0.954549\n",
      "[26]\ttrain-auc:0.955469\n",
      "[27]\ttrain-auc:0.956112\n",
      "[28]\ttrain-auc:0.956687\n",
      "[29]\ttrain-auc:0.956685\n",
      "[30]\ttrain-auc:0.956422\n",
      "[31]\ttrain-auc:0.956983\n",
      "[32]\ttrain-auc:0.956835\n",
      "[33]\ttrain-auc:0.957706\n",
      "[34]\ttrain-auc:0.957979\n",
      "[35]\ttrain-auc:0.95833\n",
      "[36]\ttrain-auc:0.95807\n",
      "[37]\ttrain-auc:0.959076\n",
      "[38]\ttrain-auc:0.959187\n",
      "[39]\ttrain-auc:0.959741\n",
      "[40]\ttrain-auc:0.960116\n",
      "[41]\ttrain-auc:0.960611\n",
      "[42]\ttrain-auc:0.961053\n",
      "[43]\ttrain-auc:0.96148\n",
      "[44]\ttrain-auc:0.961201\n",
      "[45]\ttrain-auc:0.961457\n",
      "[46]\ttrain-auc:0.961725\n"
     ]
    }
   ],
   "source": [
    "watchlist = [(dtrain, 'train')]\n",
    "model = xgb.train(params, dtrain, len(res), watchlist)"
   ]
  },
  {
   "cell_type": "code",
   "execution_count": null,
   "metadata": {},
   "outputs": [],
   "source": []
  },
  {
   "cell_type": "code",
   "execution_count": 34,
   "metadata": {},
   "outputs": [],
   "source": [
    "dtrain = xgb.DMatrix(train_reduced,label=labels)"
   ]
  },
  {
   "cell_type": "code",
   "execution_count": 35,
   "metadata": {},
   "outputs": [],
   "source": [
    "dtest = xgb.DMatrix(test_reduced)"
   ]
  },
  {
   "cell_type": "code",
   "execution_count": 36,
   "metadata": {},
   "outputs": [],
   "source": [
    "res = xgb.cv(params,dtrain,num_boost_round=2000,nfold=5,early_stopping_rounds=50)"
   ]
  },
  {
   "cell_type": "code",
   "execution_count": 37,
   "metadata": {},
   "outputs": [
    {
     "name": "stdout",
     "output_type": "stream",
     "text": [
      "[0]\ttrain-auc:0.598415\n",
      "[1]\ttrain-auc:0.598957\n",
      "[2]\ttrain-auc:0.900517\n",
      "[3]\ttrain-auc:0.914712\n",
      "[4]\ttrain-auc:0.922607\n",
      "[5]\ttrain-auc:0.922604\n",
      "[6]\ttrain-auc:0.929257\n",
      "[7]\ttrain-auc:0.933282\n",
      "[8]\ttrain-auc:0.934236\n",
      "[9]\ttrain-auc:0.937348\n",
      "[10]\ttrain-auc:0.939015\n",
      "[11]\ttrain-auc:0.938889\n",
      "[12]\ttrain-auc:0.938334\n",
      "[13]\ttrain-auc:0.937713\n",
      "[14]\ttrain-auc:0.936248\n",
      "[15]\ttrain-auc:0.939472\n",
      "[16]\ttrain-auc:0.938005\n",
      "[17]\ttrain-auc:0.942302\n",
      "[18]\ttrain-auc:0.940491\n",
      "[19]\ttrain-auc:0.939244\n",
      "[20]\ttrain-auc:0.941734\n",
      "[21]\ttrain-auc:0.944083\n",
      "[22]\ttrain-auc:0.944802\n",
      "[23]\ttrain-auc:0.943674\n",
      "[24]\ttrain-auc:0.942364\n",
      "[25]\ttrain-auc:0.944373\n",
      "[26]\ttrain-auc:0.94596\n",
      "[27]\ttrain-auc:0.94829\n",
      "[28]\ttrain-auc:0.948687\n",
      "[29]\ttrain-auc:0.94941\n",
      "[30]\ttrain-auc:0.949764\n",
      "[31]\ttrain-auc:0.949318\n",
      "[32]\ttrain-auc:0.9493\n",
      "[33]\ttrain-auc:0.948391\n",
      "[34]\ttrain-auc:0.949416\n",
      "[35]\ttrain-auc:0.949367\n",
      "[36]\ttrain-auc:0.950295\n",
      "[37]\ttrain-auc:0.951781\n",
      "[38]\ttrain-auc:0.951894\n",
      "[39]\ttrain-auc:0.953506\n",
      "[40]\ttrain-auc:0.953446\n",
      "[41]\ttrain-auc:0.954631\n",
      "[42]\ttrain-auc:0.95502\n",
      "[43]\ttrain-auc:0.955585\n",
      "[44]\ttrain-auc:0.956342\n",
      "[45]\ttrain-auc:0.956758\n",
      "[46]\ttrain-auc:0.957268\n",
      "[47]\ttrain-auc:0.957545\n"
     ]
    }
   ],
   "source": [
    "watchlist = [(dtrain, 'train')]\n",
    "model = xgb.train(params, dtrain, len(res), watchlist)"
   ]
  },
  {
   "cell_type": "code",
   "execution_count": 46,
   "metadata": {},
   "outputs": [],
   "source": [
    "ypred = model.predict(dtest)"
   ]
  },
  {
   "cell_type": "code",
   "execution_count": 47,
   "metadata": {},
   "outputs": [
    {
     "data": {
      "text/plain": [
       "array([0.09719598, 0.10322818, 0.08600242, ..., 0.11404815, 0.07568297,\n",
       "       0.07234761], dtype=float32)"
      ]
     },
     "execution_count": 47,
     "metadata": {},
     "output_type": "execute_result"
    }
   ],
   "source": [
    "ypred"
   ]
  },
  {
   "cell_type": "code",
   "execution_count": 48,
   "metadata": {},
   "outputs": [
    {
     "data": {
      "text/plain": [
       "12518"
      ]
     },
     "execution_count": 48,
     "metadata": {},
     "output_type": "execute_result"
    }
   ],
   "source": [
    "len(ypred)"
   ]
  },
  {
   "cell_type": "code",
   "execution_count": 49,
   "metadata": {},
   "outputs": [],
   "source": [
    "result = pd.DataFrame({'EID': test.EID, 'FORTARGET': [\n",
    "                      1 if i > 0.5 else 0 for i in ypred], 'PROB': ypred})"
   ]
  },
  {
   "cell_type": "code",
   "execution_count": 50,
   "metadata": {},
   "outputs": [],
   "source": [
    "result.to_csv('Desktop/xgb2.csv',index=False)"
   ]
  },
  {
   "cell_type": "code",
   "execution_count": null,
   "metadata": {},
   "outputs": [],
   "source": []
  },
  {
   "cell_type": "markdown",
   "metadata": {},
   "source": [
    "# model stacking"
   ]
  },
  {
   "cell_type": "code",
   "execution_count": null,
   "metadata": {},
   "outputs": [
    {
     "name": "stdout",
     "output_type": "stream",
     "text": [
      "5-fold cross validation:\n",
      "\n",
      "Accuracy: 0.86 (+/- 0.16) [KNN]\n",
      "Accuracy: 0.91 (+/- 0.09) [Random Forest]\n",
      "Accuracy: 0.88 (+/- 0.15) [Gradient Boosting]\n",
      "Accuracy: 0.96 (+/- 0.03) [AdaBoost]\n"
     ]
    },
    {
     "name": "stderr",
     "output_type": "stream",
     "text": [
      "/home/ian/anaconda3/lib/python3.6/site-packages/sklearn/preprocessing/label.py:151: DeprecationWarning: The truth value of an empty array is ambiguous. Returning False, but in future this will result in an error. Use `array.size > 0` to check that an array is not empty.\n",
      "  if diff:\n",
      "/home/ian/anaconda3/lib/python3.6/site-packages/sklearn/preprocessing/label.py:151: DeprecationWarning: The truth value of an empty array is ambiguous. Returning False, but in future this will result in an error. Use `array.size > 0` to check that an array is not empty.\n",
      "  if diff:\n",
      "/home/ian/anaconda3/lib/python3.6/site-packages/sklearn/preprocessing/label.py:151: DeprecationWarning: The truth value of an empty array is ambiguous. Returning False, but in future this will result in an error. Use `array.size > 0` to check that an array is not empty.\n",
      "  if diff:\n",
      "/home/ian/anaconda3/lib/python3.6/site-packages/sklearn/preprocessing/label.py:151: DeprecationWarning: The truth value of an empty array is ambiguous. Returning False, but in future this will result in an error. Use `array.size > 0` to check that an array is not empty.\n",
      "  if diff:\n",
      "/home/ian/anaconda3/lib/python3.6/site-packages/sklearn/preprocessing/label.py:151: DeprecationWarning: The truth value of an empty array is ambiguous. Returning False, but in future this will result in an error. Use `array.size > 0` to check that an array is not empty.\n",
      "  if diff:\n"
     ]
    },
    {
     "name": "stdout",
     "output_type": "stream",
     "text": [
      "Accuracy: 0.88 (+/- 0.15) [xgboost]\n"
     ]
    }
   ],
   "source": [
    "from sklearn import model_selection\n",
    "from sklearn.linear_model import LogisticRegression\n",
    "from sklearn.neighbors import KNeighborsClassifier\n",
    "#from sklearn.naive_bayes import GaussianNB\n",
    "from sklearn.ensemble import RandomForestClassifier\n",
    "from sklearn.ensemble.gradient_boosting import GradientBoostingClassifier\n",
    "from sklearn.ensemble import AdaBoostClassifier\n",
    "from xgboost.sklearn import XGBClassifier\n",
    "from sklearn.svm import SVC\n",
    "from mlxtend.classifier import StackingClassifier\n",
    "import numpy as np\n",
    "\n",
    "clf1 = KNeighborsClassifier(n_neighbors=1)\n",
    "clf2 = RandomForestClassifier(random_state=1)\n",
    "#clf3 = GaussianNB()\n",
    "clf4 = GradientBoostingClassifier()\n",
    "clf5 = AdaBoostClassifier()\n",
    "clf6 = XGBClassifier()\n",
    "clf7 = SVC()\n",
    "lr = LogisticRegression()\n",
    "sclf = StackingClassifier(classifiers=[clf1,clf2,clf4,clf5,clf6,clf7],\n",
    "                         meta_classifier=lr)\n",
    "\n",
    "print('5-fold cross validation:\\n')\n",
    "\n",
    "for clf, label in zip([clf1, clf2,clf4, clf5, clf6,clf7,sclf],\n",
    "                     ['KNN',\n",
    "                     'Random Forest',\n",
    "                #     'Naive Bayes',\n",
    "                     'Gradient Boosting',\n",
    "                     'AdaBoost',\n",
    "                     'xgboost',\n",
    "                      'SVC',\n",
    "                      'StackingClassifier']):\n",
    "                \n",
    "    scores = model_selection.cross_val_score(clf,train_reduced,labels,\n",
    "                                            cv=5,scoring='accuracy')\n",
    "                      \n",
    "    \n",
    "    print('Accuracy: %0.2f (+/- %0.2f) [%s]'\n",
    "          % (scores.mean(), scores.std(), label))"
   ]
  },
  {
   "cell_type": "code",
   "execution_count": 34,
   "metadata": {},
   "outputs": [
    {
     "name": "stderr",
     "output_type": "stream",
     "text": [
      "/home/ian/anaconda3/lib/python3.6/site-packages/sklearn/preprocessing/label.py:151: DeprecationWarning: The truth value of an empty array is ambiguous. Returning False, but in future this will result in an error. Use `array.size > 0` to check that an array is not empty.\n",
      "  if diff:\n"
     ]
    },
    {
     "name": "stdout",
     "output_type": "stream",
     "text": [
      "[0 1]\n"
     ]
    }
   ],
   "source": [
    "train_pred = sclf.predict(train_reduced).astype(int)\n",
    "print(np.unique(train_pred))"
   ]
  },
  {
   "cell_type": "code",
   "execution_count": 35,
   "metadata": {},
   "outputs": [
    {
     "name": "stderr",
     "output_type": "stream",
     "text": [
      "/home/ian/anaconda3/lib/python3.6/site-packages/sklearn/preprocessing/label.py:151: DeprecationWarning: The truth value of an empty array is ambiguous. Returning False, but in future this will result in an error. Use `array.size > 0` to check that an array is not empty.\n",
      "  if diff:\n"
     ]
    },
    {
     "name": "stdout",
     "output_type": "stream",
     "text": [
      "1.0\n"
     ]
    }
   ],
   "source": [
    "from sklearn.metrics import roc_auc_score\n",
    "\n",
    "prob_train_pred = sclf.predict_proba(train_reduced)\n",
    "\n",
    "prob_train_pred = [p[1] for p in prob_train_pred]\n",
    "\n",
    "print(roc_auc_score(labels,prob_train_pred))"
   ]
  },
  {
   "cell_type": "markdown",
   "metadata": {},
   "source": [
    "# output test result"
   ]
  },
  {
   "cell_type": "code",
   "execution_count": 36,
   "metadata": {},
   "outputs": [
    {
     "name": "stderr",
     "output_type": "stream",
     "text": [
      "/home/ian/anaconda3/lib/python3.6/site-packages/sklearn/preprocessing/label.py:151: DeprecationWarning: The truth value of an empty array is ambiguous. Returning False, but in future this will result in an error. Use `array.size > 0` to check that an array is not empty.\n",
      "  if diff:\n",
      "/home/ian/anaconda3/lib/python3.6/site-packages/sklearn/preprocessing/label.py:151: DeprecationWarning: The truth value of an empty array is ambiguous. Returning False, but in future this will result in an error. Use `array.size > 0` to check that an array is not empty.\n",
      "  if diff:\n"
     ]
    }
   ],
   "source": [
    "test_pred = sclf.predict(test_reduced).astype(int)\n",
    "\n",
    "prob_test_pred = sclf.predict_proba(test_reduced)\n",
    "prob_test_pred = [p[1] for p in prob_test_pred]"
   ]
  },
  {
   "cell_type": "code",
   "execution_count": 37,
   "metadata": {},
   "outputs": [
    {
     "name": "stdout",
     "output_type": "stream",
     "text": [
      "[0 1]\n"
     ]
    }
   ],
   "source": [
    "print(np.unique(test_pred))"
   ]
  },
  {
   "cell_type": "code",
   "execution_count": 38,
   "metadata": {},
   "outputs": [],
   "source": [
    "pd.DataFrame({'EID': test.EID, 'FORTARGET': test_pred, 'PROB': prob_test_pred}).to_csv(\n",
    "    'Desktop/result_5.csv', index=False)"
   ]
  },
  {
   "cell_type": "code",
   "execution_count": null,
   "metadata": {},
   "outputs": [],
   "source": []
  },
  {
   "cell_type": "code",
   "execution_count": null,
   "metadata": {},
   "outputs": [],
   "source": []
  }
 ],
 "metadata": {
  "kernelspec": {
   "display_name": "Python 3",
   "language": "python",
   "name": "python3"
  },
  "language_info": {
   "codemirror_mode": {
    "name": "ipython",
    "version": 3
   },
   "file_extension": ".py",
   "mimetype": "text/x-python",
   "name": "python",
   "nbconvert_exporter": "python",
   "pygments_lexer": "ipython3",
   "version": "3.6.7"
  }
 },
 "nbformat": 4,
 "nbformat_minor": 2
}
