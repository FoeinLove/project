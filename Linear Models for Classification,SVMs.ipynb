{
 "cells": [
  {
   "cell_type": "markdown",
   "metadata": {},
   "source": [
    "# Computational considerations(for all linear models)"
   ]
  },
  {
   "cell_type": "markdown",
   "metadata": {},
   "source": [
    "                              Solver choices\n",
    "\n",
    "1. Don’t use SVC(kernel='linear'), use LinearSVC\n",
    "2. For n_features >> n_samples: Lars (or LassoLars) instead of Lasso.\n",
    "3. For small n_samples (<10.000?), don’t worry.\n",
    "4. LinearSVC, LogisticRegression: dual=False if n_samples >> n_features\n",
    "5. LogisticRegression(solver=\"sag\") for n_samples large.\n",
    "6. Stochastic Gradient Descent for n_samples really large"
   ]
  },
  {
   "cell_type": "markdown",
   "metadata": {},
   "source": [
    "# Kernel SVMs"
   ]
  },
  {
   "cell_type": "markdown",
   "metadata": {},
   "source": [
    "                             Kernels in Practice\n",
    "\n",
    "1. Dual coefficients less interpretable\n",
    "2. Long runtime for “large” datasets (100k samples)\n",
    "3. Real power in infinite-dimensional spaces: rbf!\n",
    "4. Rbf is “universal kernel” - can learn (aka overfit) anything."
   ]
  },
  {
   "cell_type": "code",
   "execution_count": null,
   "metadata": {},
   "outputs": [],
   "source": []
  }
 ],
 "metadata": {
  "kernelspec": {
   "display_name": "Python 3",
   "language": "python",
   "name": "python3"
  },
  "language_info": {
   "codemirror_mode": {
    "name": "ipython",
    "version": 3
   },
   "file_extension": ".py",
   "mimetype": "text/x-python",
   "name": "python",
   "nbconvert_exporter": "python",
   "pygments_lexer": "ipython3",
   "version": "3.7.3"
  }
 },
 "nbformat": 4,
 "nbformat_minor": 2
}
