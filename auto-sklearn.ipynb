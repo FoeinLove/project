{
 "cells": [
  {
   "cell_type": "code",
   "execution_count": 1,
   "metadata": {},
   "outputs": [],
   "source": [
    "import pandas as pd\n",
    "import numpy as np\n",
    "\n",
    "train_df1 = pd.read_csv('Desktop/比赛数据特征/train/train_df1.csv')\n",
    "train_df2 = pd.read_csv('Desktop/比赛数据特征/train/train_df2.csv')\n",
    "train_df3 = pd.read_csv('Desktop/比赛数据特征/train/train_df3.csv')\n",
    "train_df4 = pd.read_csv('Desktop/比赛数据特征/train/train_df4.csv')\n",
    "train_df5 = pd.read_csv('Desktop/比赛数据特征/train/train_df5.csv')\n",
    "train_df6 = pd.read_csv('Desktop/比赛数据特征/train/train_df6.csv')\n",
    "train_df7 = pd.read_csv('Desktop/比赛数据特征/train/train_df7.csv')\n",
    "train_df8 = pd.read_csv('Desktop/比赛数据特征/train/train_df8.csv')\n",
    "\n",
    "test_df1 = pd.read_csv('Desktop/比赛数据特征/test/test_df1.csv')\n",
    "test_df2 = pd.read_csv('Desktop/比赛数据特征/test/test_df2.csv')\n",
    "test_df3 = pd.read_csv('Desktop/比赛数据特征/test/test_df3.csv')\n",
    "test_df4 = pd.read_csv('Desktop/比赛数据特征/test/test_df4.csv')\n",
    "test_df5 = pd.read_csv('Desktop/比赛数据特征/test/test_df5.csv')\n",
    "test_df6 = pd.read_csv('Desktop/比赛数据特征/test/test_df6.csv')\n",
    "test_df7 = pd.read_csv('Desktop/比赛数据特征/test/test_df7.csv')\n",
    "\n",
    "train = pd.merge(train_df1, train_df2, on='EID', how='left')\n",
    "train = pd.merge(train, train_df3, on='EID', how='left')\n",
    "train = pd.merge(train, train_df4, on='EID', how='left')\n",
    "train = pd.merge(train, train_df5, on='EID', how='left')\n",
    "train = pd.merge(train, train_df6, on='EID', how='left')\n",
    "train = pd.merge(train, train_df7, on='EID', how='left')\n",
    "train = pd.merge(train, train_df8, on='EID', how='left')\n",
    "\n",
    "test = pd.merge(test_df1, test_df2, on='EID', how='left')\n",
    "test = pd.merge(test, test_df3, on='EID', how='left')\n",
    "test = pd.merge(test, test_df4, on='EID', how='left')\n",
    "test = pd.merge(test, test_df5, on='EID', how='left')\n",
    "test = pd.merge(test, test_df6, on='EID', how='left')\n",
    "test = pd.merge(test, test_df7, on='EID', how='left')\n",
    "\n",
    "#train.shape\n",
    "\n",
    "#test.shape\n",
    "\n",
    "train['TARGET'] = train.TARGET.fillna(0)\n",
    "\n",
    "#train.TARGET.value_counts()\n",
    "\n",
    "#19882+368\n",
    "\n",
    "#368/(368+19882)\n",
    "\n",
    "#19882/(368+19882)\n",
    "\n",
    "labels = train.TARGET"
   ]
  },
  {
   "cell_type": "code",
   "execution_count": 2,
   "metadata": {},
   "outputs": [],
   "source": [
    "train.drop(['TARGET'],axis=1,inplace=True)"
   ]
  },
  {
   "cell_type": "code",
   "execution_count": 3,
   "metadata": {},
   "outputs": [],
   "source": [
    "all_feat = pd.concat([train, test]).reset_index(drop=True)"
   ]
  },
  {
   "cell_type": "code",
   "execution_count": 4,
   "metadata": {},
   "outputs": [
    {
     "data": {
      "text/plain": [
       "(32767, 67)"
      ]
     },
     "execution_count": 4,
     "metadata": {},
     "output_type": "execute_result"
    }
   ],
   "source": [
    "all_feat.shape"
   ]
  },
  {
   "cell_type": "code",
   "execution_count": 5,
   "metadata": {},
   "outputs": [],
   "source": [
    "all_feat.fillna(0,inplace=True)"
   ]
  },
  {
   "cell_type": "code",
   "execution_count": 6,
   "metadata": {},
   "outputs": [],
   "source": [
    "all_feat['EID'] = all_feat['EID'].apply(lambda x: int(x[1:]))"
   ]
  },
  {
   "cell_type": "code",
   "execution_count": 7,
   "metadata": {},
   "outputs": [],
   "source": [
    "#all_feat.head(2)"
   ]
  },
  {
   "cell_type": "code",
   "execution_count": 8,
   "metadata": {},
   "outputs": [],
   "source": [
    "all_feat = pd.get_dummies(all_feat)"
   ]
  },
  {
   "cell_type": "code",
   "execution_count": 9,
   "metadata": {},
   "outputs": [],
   "source": [
    "train_count = train.shape[0]\n",
    "test_count = test.shape[0]"
   ]
  },
  {
   "cell_type": "code",
   "execution_count": 10,
   "metadata": {},
   "outputs": [],
   "source": [
    "train_feat = all_feat[:train_count].reset_index(drop=True)\n",
    "test_feat = all_feat[-test_count:].reset_index(drop=True)"
   ]
  },
  {
   "cell_type": "code",
   "execution_count": 11,
   "metadata": {},
   "outputs": [
    {
     "data": {
      "text/plain": [
       "(20250, 129)"
      ]
     },
     "execution_count": 11,
     "metadata": {},
     "output_type": "execute_result"
    }
   ],
   "source": [
    "train_feat.shape"
   ]
  },
  {
   "cell_type": "code",
   "execution_count": 12,
   "metadata": {},
   "outputs": [
    {
     "data": {
      "text/plain": [
       "(12517, 129)"
      ]
     },
     "execution_count": 12,
     "metadata": {},
     "output_type": "execute_result"
    }
   ],
   "source": [
    "test_feat.shape"
   ]
  },
  {
   "cell_type": "code",
   "execution_count": 13,
   "metadata": {},
   "outputs": [],
   "source": [
    "#train_feat.head(2)"
   ]
  },
  {
   "cell_type": "code",
   "execution_count": 14,
   "metadata": {},
   "outputs": [],
   "source": [
    "#test_feat.head(2)"
   ]
  },
  {
   "cell_type": "code",
   "execution_count": null,
   "metadata": {},
   "outputs": [],
   "source": []
  },
  {
   "cell_type": "code",
   "execution_count": 15,
   "metadata": {},
   "outputs": [],
   "source": [
    "from sklearn.ensemble import RandomForestClassifier\n",
    "from sklearn.feature_selection import SelectFromModel\n",
    "from sklearn.metrics import accuracy_score,roc_auc_score"
   ]
  },
  {
   "cell_type": "markdown",
   "metadata": {},
   "source": [
    "# feature selection"
   ]
  },
  {
   "cell_type": "code",
   "execution_count": 16,
   "metadata": {},
   "outputs": [],
   "source": [
    "clf = RandomForestClassifier(n_estimators=50, max_features='sqrt')\n",
    "clf = clf.fit(train_feat, labels)"
   ]
  },
  {
   "cell_type": "code",
   "execution_count": 17,
   "metadata": {},
   "outputs": [
    {
     "name": "stdout",
     "output_type": "stream",
     "text": [
      "(20250, 43)\n"
     ]
    }
   ],
   "source": [
    "model = SelectFromModel(clf, prefit=True)\n",
    "train_reduced = model.transform(train_feat)\n",
    "print(train_reduced.shape)"
   ]
  },
  {
   "cell_type": "code",
   "execution_count": 18,
   "metadata": {},
   "outputs": [
    {
     "name": "stdout",
     "output_type": "stream",
     "text": [
      "(12517, 43)\n"
     ]
    }
   ],
   "source": [
    "test_reduced = model.transform(test_feat)\n",
    "print(test_reduced.shape)"
   ]
  },
  {
   "cell_type": "markdown",
   "metadata": {},
   "source": [
    "# auto-sklearn"
   ]
  },
  {
   "cell_type": "code",
   "execution_count": 19,
   "metadata": {},
   "outputs": [],
   "source": [
    "from autosklearn import classification\n",
    "import warnings\n",
    "warnings.simplefilter('ignore', RuntimeWarning)"
   ]
  },
  {
   "cell_type": "code",
   "execution_count": 20,
   "metadata": {},
   "outputs": [],
   "source": [
    "automl = classification.AutoSklearnClassifier(\n",
    "    include_estimators=['random_forest','xgradient_boosting'], exclude_estimators=None,\n",
    "    include_preprocessors=['no_preprocessing', ], exclude_preprocessors=None\n",
    ")"
   ]
  },
  {
   "cell_type": "code",
   "execution_count": null,
   "metadata": {},
   "outputs": [],
   "source": [
    "include_estimators=['adaboost',\n",
    "                   'bernoulli_nb',\n",
    "                   'decision_tree',\n",
    "                   'extra_trees',\n",
    "                   'gaussian_nb',\n",
    "                   'gradient_boosting',\n",
    "                   'k_nearest_neighbors',\n",
    "                   'lda',\n",
    "                   'liblinear_svc',\n",
    "                   'libsvm_svc',\n",
    "                   'multinomial_nb',\n",
    "                   'passive_aggressive',\n",
    "                   'qda',\n",
    "                   'random_forest',\n",
    "                   'sgd',\n",
    "                   'xgradient_boosting']"
   ]
  },
  {
   "cell_type": "code",
   "execution_count": 21,
   "metadata": {
    "scrolled": true
   },
   "outputs": [
    {
     "name": "stdout",
     "output_type": "stream",
     "text": [
      "[WARNING] [2018-10-09 16:45:52,207:EnsembleBuilder(1):f0519e2437d638a3c9e0dff917156f77] No models better than random - using Dummy Classifier!\n",
      "[WARNING] [2018-10-09 16:45:52,213:EnsembleBuilder(1):f0519e2437d638a3c9e0dff917156f77] No models better than random - using Dummy Classifier!\n",
      "[WARNING] [2018-10-09 16:45:54,216:EnsembleBuilder(1):f0519e2437d638a3c9e0dff917156f77] No models better than random - using Dummy Classifier!\n",
      "[WARNING] [2018-10-09 16:45:57,948:smac.intensification.intensification.Intensifier] Challenger was the same as the current incumbent; Skipping challenger\n",
      "[WARNING] [2018-10-09 16:45:57,948:smac.intensification.intensification.Intensifier] Challenger was the same as the current incumbent; Skipping challenger\n"
     ]
    },
    {
     "data": {
      "text/plain": [
       "AutoSklearnClassifier(delete_output_folder_after_terminate=True,\n",
       "           delete_tmp_folder_after_terminate=True,\n",
       "           disable_evaluator_output=False, ensemble_nbest=50,\n",
       "           ensemble_size=50, exclude_estimators=None,\n",
       "           exclude_preprocessors=None, get_smac_object_callback=None,\n",
       "           include_estimators=['random_forest', 'xgradient_boosting'],\n",
       "           include_preprocessors=None,\n",
       "           initial_configurations_via_metalearning=25,\n",
       "           ml_memory_limit=3072, output_folder=None,\n",
       "           per_run_time_limit=360, resampling_strategy='holdout',\n",
       "           resampling_strategy_arguments=None, seed=1, shared_mode=False,\n",
       "           smac_scenario_args=None, time_left_for_this_task=3600,\n",
       "           tmp_folder=None)"
      ]
     },
     "execution_count": 21,
     "metadata": {},
     "output_type": "execute_result"
    }
   ],
   "source": [
    "automl.fit(train_reduced,labels)"
   ]
  },
  {
   "cell_type": "markdown",
   "metadata": {},
   "source": [
    "## training set auc score"
   ]
  },
  {
   "cell_type": "code",
   "execution_count": 22,
   "metadata": {},
   "outputs": [],
   "source": [
    "train_pred = automl.predict(train_reduced).astype(int)"
   ]
  },
  {
   "cell_type": "code",
   "execution_count": 23,
   "metadata": {},
   "outputs": [
    {
     "name": "stdout",
     "output_type": "stream",
     "text": [
      "[0 1]\n"
     ]
    }
   ],
   "source": [
    "print(np.unique(train_pred))"
   ]
  },
  {
   "cell_type": "code",
   "execution_count": 24,
   "metadata": {},
   "outputs": [
    {
     "name": "stdout",
     "output_type": "stream",
     "text": [
      "0.9860339043836898\n"
     ]
    }
   ],
   "source": [
    "prob_train_pred = automl.predict_proba(train_reduced)\n",
    "\n",
    "prob_train_pred = [p[1] for p in prob_train_pred]\n",
    "\n",
    "print(roc_auc_score(labels,prob_train_pred))"
   ]
  },
  {
   "cell_type": "markdown",
   "metadata": {},
   "source": [
    "## training set accuracy score"
   ]
  },
  {
   "cell_type": "code",
   "execution_count": 31,
   "metadata": {},
   "outputs": [
    {
     "name": "stdout",
     "output_type": "stream",
     "text": [
      "Accuracy score 0.9910617283950617\n"
     ]
    }
   ],
   "source": [
    "from sklearn.metrics import accuracy_score\n",
    "\n",
    "y_hat = automl.predict(train_reduced)\n",
    "print(\"Accuracy score\", accuracy_score(labels, y_hat))"
   ]
  },
  {
   "cell_type": "code",
   "execution_count": null,
   "metadata": {},
   "outputs": [],
   "source": []
  },
  {
   "cell_type": "markdown",
   "metadata": {},
   "source": [
    "## test"
   ]
  },
  {
   "cell_type": "code",
   "execution_count": 32,
   "metadata": {},
   "outputs": [],
   "source": [
    "test_pred = automl.predict(test_reduced).astype(int)"
   ]
  },
  {
   "cell_type": "code",
   "execution_count": 33,
   "metadata": {},
   "outputs": [
    {
     "name": "stdout",
     "output_type": "stream",
     "text": [
      "[0 1]\n"
     ]
    }
   ],
   "source": [
    "print(np.unique(test_pred))"
   ]
  },
  {
   "cell_type": "code",
   "execution_count": 34,
   "metadata": {},
   "outputs": [],
   "source": [
    "prob_test_pred = automl.predict_proba(test_reduced)\n",
    "prob_test_pred = [p[1] for p in prob_test_pred]"
   ]
  },
  {
   "cell_type": "code",
   "execution_count": 35,
   "metadata": {},
   "outputs": [],
   "source": [
    "pd.DataFrame({'EID': test.EID, 'FORTARGET': test_pred, 'PROB': prob_test_pred}).to_csv(\n",
    "    'Desktop/automl_test.csv', index=False)"
   ]
  },
  {
   "cell_type": "code",
   "execution_count": null,
   "metadata": {},
   "outputs": [],
   "source": []
  },
  {
   "cell_type": "markdown",
   "metadata": {},
   "source": [
    "# model persistence"
   ]
  },
  {
   "cell_type": "code",
   "execution_count": 36,
   "metadata": {},
   "outputs": [],
   "source": [
    "from sklearn.externals import joblib"
   ]
  },
  {
   "cell_type": "code",
   "execution_count": 37,
   "metadata": {},
   "outputs": [
    {
     "data": {
      "text/plain": [
       "['Desktop/automl_xinyong.joblib']"
      ]
     },
     "execution_count": 37,
     "metadata": {},
     "output_type": "execute_result"
    }
   ],
   "source": [
    "joblib.dump(automl,'Desktop/automl_xinyong.joblib')"
   ]
  },
  {
   "cell_type": "code",
   "execution_count": 38,
   "metadata": {},
   "outputs": [],
   "source": [
    "autoclf = joblib.load('Desktop/automl_xinyong.joblib')"
   ]
  },
  {
   "cell_type": "code",
   "execution_count": 39,
   "metadata": {},
   "outputs": [
    {
     "name": "stdout",
     "output_type": "stream",
     "text": [
      "Accuracy score 0.9910617283950617\n"
     ]
    }
   ],
   "source": [
    "from sklearn.metrics import accuracy_score\n",
    "\n",
    "y_hat = autoclf.predict(train_reduced)\n",
    "print(\"Accuracy score\", accuracy_score(labels, y_hat))"
   ]
  },
  {
   "cell_type": "code",
   "execution_count": null,
   "metadata": {},
   "outputs": [],
   "source": []
  }
 ],
 "metadata": {
  "kernelspec": {
   "display_name": "Python 3",
   "language": "python",
   "name": "python3"
  },
  "language_info": {
   "codemirror_mode": {
    "name": "ipython",
    "version": 3
   },
   "file_extension": ".py",
   "mimetype": "text/x-python",
   "name": "python",
   "nbconvert_exporter": "python",
   "pygments_lexer": "ipython3",
   "version": "3.6.7"
  },
  "toc": {
   "base_numbering": 1,
   "nav_menu": {},
   "number_sections": false,
   "sideBar": false,
   "skip_h1_title": false,
   "title_cell": "Table of Contents",
   "title_sidebar": "Contents",
   "toc_cell": false,
   "toc_position": {},
   "toc_section_display": false,
   "toc_window_display": false
  }
 },
 "nbformat": 4,
 "nbformat_minor": 2
}
