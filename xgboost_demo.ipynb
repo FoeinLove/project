{
 "cells": [
  {
   "cell_type": "markdown",
   "metadata": {},
   "source": [
    "# Dataset"
   ]
  },
  {
   "cell_type": "code",
   "execution_count": 80,
   "metadata": {},
   "outputs": [],
   "source": [
    "from sklearn import datasets"
   ]
  },
  {
   "cell_type": "code",
   "execution_count": 81,
   "metadata": {},
   "outputs": [],
   "source": [
    "iris = datasets.load_iris()"
   ]
  },
  {
   "cell_type": "code",
   "execution_count": 82,
   "metadata": {},
   "outputs": [],
   "source": [
    "data = iris.data[:100]"
   ]
  },
  {
   "cell_type": "code",
   "execution_count": 83,
   "metadata": {},
   "outputs": [
    {
     "data": {
      "text/plain": [
       "(100, 4)"
      ]
     },
     "execution_count": 83,
     "metadata": {},
     "output_type": "execute_result"
    }
   ],
   "source": [
    "data.shape"
   ]
  },
  {
   "cell_type": "code",
   "execution_count": 84,
   "metadata": {},
   "outputs": [],
   "source": [
    "label = iris.target[:100]"
   ]
  },
  {
   "cell_type": "code",
   "execution_count": 85,
   "metadata": {},
   "outputs": [
    {
     "data": {
      "text/plain": [
       "(100,)"
      ]
     },
     "execution_count": 85,
     "metadata": {},
     "output_type": "execute_result"
    }
   ],
   "source": [
    "label.shape"
   ]
  },
  {
   "cell_type": "code",
   "execution_count": 86,
   "metadata": {},
   "outputs": [
    {
     "data": {
      "text/plain": [
       "array([0, 0, 0, 0, 0, 0, 0, 0, 0, 0, 0, 0, 0, 0, 0, 0, 0, 0, 0, 0, 0, 0,\n",
       "       0, 0, 0, 0, 0, 0, 0, 0, 0, 0, 0, 0, 0, 0, 0, 0, 0, 0, 0, 0, 0, 0,\n",
       "       0, 0, 0, 0, 0, 0, 1, 1, 1, 1, 1, 1, 1, 1, 1, 1, 1, 1, 1, 1, 1, 1,\n",
       "       1, 1, 1, 1, 1, 1, 1, 1, 1, 1, 1, 1, 1, 1, 1, 1, 1, 1, 1, 1, 1, 1,\n",
       "       1, 1, 1, 1, 1, 1, 1, 1, 1, 1, 1, 1])"
      ]
     },
     "execution_count": 86,
     "metadata": {},
     "output_type": "execute_result"
    }
   ],
   "source": [
    "label"
   ]
  },
  {
   "cell_type": "markdown",
   "metadata": {},
   "source": [
    "# Train_test"
   ]
  },
  {
   "cell_type": "code",
   "execution_count": 87,
   "metadata": {},
   "outputs": [],
   "source": [
    "from sklearn.model_selection import train_test_split"
   ]
  },
  {
   "cell_type": "code",
   "execution_count": 88,
   "metadata": {},
   "outputs": [],
   "source": [
    "train_x, test_x, train_y, test_y = train_test_split(\n",
    "    data, label)#, random_state=0)"
   ]
  },
  {
   "cell_type": "code",
   "execution_count": 89,
   "metadata": {},
   "outputs": [
    {
     "data": {
      "text/plain": [
       "(75, 4)"
      ]
     },
     "execution_count": 89,
     "metadata": {},
     "output_type": "execute_result"
    }
   ],
   "source": [
    "train_x.shape"
   ]
  },
  {
   "cell_type": "code",
   "execution_count": 24,
   "metadata": {},
   "outputs": [
    {
     "data": {
      "text/plain": [
       "(75,)"
      ]
     },
     "execution_count": 24,
     "metadata": {},
     "output_type": "execute_result"
    }
   ],
   "source": [
    "train_y.shape"
   ]
  },
  {
   "cell_type": "code",
   "execution_count": 25,
   "metadata": {},
   "outputs": [
    {
     "data": {
      "text/plain": [
       "(25, 4)"
      ]
     },
     "execution_count": 25,
     "metadata": {},
     "output_type": "execute_result"
    }
   ],
   "source": [
    "test_x.shape"
   ]
  },
  {
   "cell_type": "code",
   "execution_count": 26,
   "metadata": {},
   "outputs": [
    {
     "data": {
      "text/plain": [
       "(25,)"
      ]
     },
     "execution_count": 26,
     "metadata": {},
     "output_type": "execute_result"
    }
   ],
   "source": [
    "test_y.shape"
   ]
  },
  {
   "cell_type": "code",
   "execution_count": 34,
   "metadata": {},
   "outputs": [
    {
     "data": {
      "text/plain": [
       "25"
      ]
     },
     "execution_count": 34,
     "metadata": {},
     "output_type": "execute_result"
    }
   ],
   "source": [
    "test_x.shape[0]"
   ]
  },
  {
   "cell_type": "code",
   "execution_count": null,
   "metadata": {},
   "outputs": [],
   "source": []
  },
  {
   "cell_type": "markdown",
   "metadata": {},
   "source": [
    "# XGboost Model"
   ]
  },
  {
   "cell_type": "code",
   "execution_count": 27,
   "metadata": {},
   "outputs": [],
   "source": [
    "import xgboost as xgb"
   ]
  },
  {
   "cell_type": "code",
   "execution_count": 28,
   "metadata": {},
   "outputs": [],
   "source": [
    "dtrain = xgb.DMatrix(train_x, label=train_y)"
   ]
  },
  {
   "cell_type": "code",
   "execution_count": 35,
   "metadata": {},
   "outputs": [],
   "source": [
    "dtest = xgb.DMatrix(test_x)"
   ]
  },
  {
   "cell_type": "code",
   "execution_count": 36,
   "metadata": {},
   "outputs": [],
   "source": [
    "params = {'booster': 'gbtree',\n",
    "          'objective': 'binary:logistic',\n",
    "          'eval_metric':'auc',\n",
    "          'max_depth': 4,\n",
    "          'lambda': 10,\n",
    "          'subsample': 0.75,\n",
    "          'colsample_bytree': 0.75,\n",
    "          'min_child_weight': 2,\n",
    "          'eta': 0.025,\n",
    "          'seed': 0,\n",
    "          'nthread': 8,\n",
    "          'silent': 0}"
   ]
  },
  {
   "cell_type": "code",
   "execution_count": 37,
   "metadata": {},
   "outputs": [],
   "source": [
    "watchlist = [(dtrain, 'train')]"
   ]
  },
  {
   "cell_type": "markdown",
   "metadata": {},
   "source": [
    "# Training & Prediction & Evaluation"
   ]
  },
  {
   "cell_type": "code",
   "execution_count": 40,
   "metadata": {},
   "outputs": [
    {
     "name": "stdout",
     "output_type": "stream",
     "text": [
      "[0]\ttrain-auc:1\n",
      "[1]\ttrain-auc:1\n",
      "[2]\ttrain-auc:1\n",
      "[3]\ttrain-auc:1\n",
      "[4]\ttrain-auc:1\n",
      "[5]\ttrain-auc:1\n",
      "[6]\ttrain-auc:1\n",
      "[7]\ttrain-auc:1\n",
      "[8]\ttrain-auc:1\n",
      "[9]\ttrain-auc:1\n",
      "[10]\ttrain-auc:1\n",
      "[11]\ttrain-auc:1\n",
      "[12]\ttrain-auc:1\n",
      "[13]\ttrain-auc:1\n",
      "[14]\ttrain-auc:1\n",
      "[15]\ttrain-auc:1\n",
      "[16]\ttrain-auc:1\n",
      "[17]\ttrain-auc:1\n",
      "[18]\ttrain-auc:1\n",
      "[19]\ttrain-auc:1\n",
      "[20]\ttrain-auc:1\n",
      "[21]\ttrain-auc:1\n",
      "[22]\ttrain-auc:1\n",
      "[23]\ttrain-auc:1\n",
      "[24]\ttrain-auc:1\n",
      "[25]\ttrain-auc:1\n",
      "[26]\ttrain-auc:1\n",
      "[27]\ttrain-auc:1\n",
      "[28]\ttrain-auc:1\n",
      "[29]\ttrain-auc:1\n",
      "[30]\ttrain-auc:1\n",
      "[31]\ttrain-auc:1\n",
      "[32]\ttrain-auc:1\n",
      "[33]\ttrain-auc:1\n",
      "[34]\ttrain-auc:1\n",
      "[35]\ttrain-auc:1\n",
      "[36]\ttrain-auc:1\n",
      "[37]\ttrain-auc:1\n",
      "[38]\ttrain-auc:1\n",
      "[39]\ttrain-auc:1\n",
      "[40]\ttrain-auc:1\n",
      "[41]\ttrain-auc:1\n",
      "[42]\ttrain-auc:1\n",
      "[43]\ttrain-auc:1\n",
      "[44]\ttrain-auc:1\n",
      "[45]\ttrain-auc:1\n",
      "[46]\ttrain-auc:1\n",
      "[47]\ttrain-auc:1\n",
      "[48]\ttrain-auc:1\n",
      "[49]\ttrain-auc:1\n",
      "[50]\ttrain-auc:1\n",
      "[51]\ttrain-auc:1\n",
      "[52]\ttrain-auc:1\n",
      "[53]\ttrain-auc:1\n",
      "[54]\ttrain-auc:1\n",
      "[55]\ttrain-auc:1\n",
      "[56]\ttrain-auc:1\n",
      "[57]\ttrain-auc:1\n",
      "[58]\ttrain-auc:1\n",
      "[59]\ttrain-auc:1\n",
      "[60]\ttrain-auc:1\n",
      "[61]\ttrain-auc:1\n",
      "[62]\ttrain-auc:1\n",
      "[63]\ttrain-auc:1\n",
      "[64]\ttrain-auc:1\n",
      "[65]\ttrain-auc:1\n",
      "[66]\ttrain-auc:1\n",
      "[67]\ttrain-auc:1\n",
      "[68]\ttrain-auc:1\n",
      "[69]\ttrain-auc:1\n",
      "[70]\ttrain-auc:1\n",
      "[71]\ttrain-auc:1\n",
      "[72]\ttrain-auc:1\n",
      "[73]\ttrain-auc:1\n",
      "[74]\ttrain-auc:1\n",
      "[75]\ttrain-auc:1\n",
      "[76]\ttrain-auc:1\n",
      "[77]\ttrain-auc:1\n",
      "[78]\ttrain-auc:1\n",
      "[79]\ttrain-auc:1\n",
      "[80]\ttrain-auc:1\n",
      "[81]\ttrain-auc:1\n",
      "[82]\ttrain-auc:1\n",
      "[83]\ttrain-auc:1\n",
      "[84]\ttrain-auc:1\n",
      "[85]\ttrain-auc:1\n",
      "[86]\ttrain-auc:1\n",
      "[87]\ttrain-auc:1\n",
      "[88]\ttrain-auc:1\n",
      "[89]\ttrain-auc:1\n",
      "[90]\ttrain-auc:1\n",
      "[91]\ttrain-auc:1\n",
      "[92]\ttrain-auc:1\n",
      "[93]\ttrain-auc:1\n",
      "[94]\ttrain-auc:1\n",
      "[95]\ttrain-auc:1\n",
      "[96]\ttrain-auc:1\n",
      "[97]\ttrain-auc:1\n",
      "[98]\ttrain-auc:1\n",
      "[99]\ttrain-auc:1\n"
     ]
    }
   ],
   "source": [
    "bst = xgb.train(params,dtrain, num_boost_round=100, evals=watchlist)#+early_stopping_rounds=100"
   ]
  },
  {
   "cell_type": "code",
   "execution_count": 41,
   "metadata": {},
   "outputs": [],
   "source": [
    "ypred = bst.predict(dtest)"
   ]
  },
  {
   "cell_type": "code",
   "execution_count": 42,
   "metadata": {},
   "outputs": [
    {
     "data": {
      "text/plain": [
       "array([0.20081411, 0.8039156 , 0.20081411, 0.8039156 , 0.8039156 ,\n",
       "       0.8039156 , 0.20081411, 0.8039156 , 0.8039156 , 0.8039156 ,\n",
       "       0.8039156 , 0.8039156 , 0.8039156 , 0.20081411, 0.20081411,\n",
       "       0.20081411, 0.20081411, 0.20081411, 0.20081411, 0.20081411,\n",
       "       0.20081411, 0.8039156 , 0.20081411, 0.8039156 , 0.20081411],\n",
       "      dtype=float32)"
      ]
     },
     "execution_count": 42,
     "metadata": {},
     "output_type": "execute_result"
    }
   ],
   "source": [
    "ypred"
   ]
  },
  {
   "cell_type": "code",
   "execution_count": 47,
   "metadata": {},
   "outputs": [],
   "source": [
    "#test = pd.DataFrame(test_x)"
   ]
  },
  {
   "cell_type": "code",
   "execution_count": 48,
   "metadata": {},
   "outputs": [],
   "source": [
    "#test.columns = ['EID','A','B','C']"
   ]
  },
  {
   "cell_type": "code",
   "execution_count": 43,
   "metadata": {},
   "outputs": [],
   "source": [
    "#import pandas as pd"
   ]
  },
  {
   "cell_type": "code",
   "execution_count": 49,
   "metadata": {},
   "outputs": [],
   "source": [
    "#sub = pd.DataFrame({'EID': test.EID, 'FORTARGET': [\n",
    "#                   1 if i > 0.5 else 0 for i in ypred], 'PROB': ypred})"
   ]
  },
  {
   "cell_type": "code",
   "execution_count": 57,
   "metadata": {},
   "outputs": [],
   "source": [
    "#sub.to_csv('Desktop/test_result.csv', index=False)"
   ]
  },
  {
   "cell_type": "code",
   "execution_count": null,
   "metadata": {},
   "outputs": [],
   "source": []
  },
  {
   "cell_type": "code",
   "execution_count": null,
   "metadata": {},
   "outputs": [],
   "source": []
  },
  {
   "cell_type": "code",
   "execution_count": null,
   "metadata": {},
   "outputs": [],
   "source": []
  },
  {
   "cell_type": "code",
   "execution_count": 16,
   "metadata": {},
   "outputs": [],
   "source": [
    "y_pred = (ypred >= 0.5)*1"
   ]
  },
  {
   "cell_type": "code",
   "execution_count": 51,
   "metadata": {},
   "outputs": [
    {
     "data": {
      "text/plain": [
       "array([0, 1, 0, 1, 1, 1, 0, 1, 1, 1, 1, 1, 1, 0, 0, 0, 0, 0, 0, 0, 0, 1,\n",
       "       0, 1, 0])"
      ]
     },
     "execution_count": 51,
     "metadata": {},
     "output_type": "execute_result"
    }
   ],
   "source": [
    "test_y"
   ]
  },
  {
   "cell_type": "code",
   "execution_count": 17,
   "metadata": {},
   "outputs": [
    {
     "data": {
      "text/plain": [
       "array([0.20081411, 0.8039156 , 0.20081411, 0.8039156 , 0.8039156 ,\n",
       "       0.8039156 , 0.20081411, 0.8039156 , 0.8039156 , 0.8039156 ,\n",
       "       0.8039156 , 0.8039156 , 0.8039156 , 0.20081411, 0.20081411,\n",
       "       0.20081411, 0.20081411, 0.20081411, 0.20081411, 0.20081411,\n",
       "       0.20081411, 0.8039156 , 0.20081411, 0.8039156 , 0.20081411],\n",
       "      dtype=float32)"
      ]
     },
     "execution_count": 17,
     "metadata": {},
     "output_type": "execute_result"
    }
   ],
   "source": [
    "ypred"
   ]
  },
  {
   "cell_type": "code",
   "execution_count": 19,
   "metadata": {},
   "outputs": [],
   "source": [
    "from sklearn import metrics"
   ]
  },
  {
   "cell_type": "code",
   "execution_count": 20,
   "metadata": {},
   "outputs": [
    {
     "data": {
      "text/plain": [
       "1.0"
      ]
     },
     "execution_count": 20,
     "metadata": {},
     "output_type": "execute_result"
    }
   ],
   "source": [
    "metrics.roc_auc_score(test_y, ypred)  # AUC"
   ]
  },
  {
   "cell_type": "code",
   "execution_count": 23,
   "metadata": {},
   "outputs": [
    {
     "data": {
      "text/plain": [
       "1.0"
      ]
     },
     "execution_count": 23,
     "metadata": {},
     "output_type": "execute_result"
    }
   ],
   "source": [
    "fpr, tpr, thresholds = metrics.roc_curve(\n",
    "   test_y, bst.predict(dtest), pos_label=1)\n",
    "\n",
    "metrics.auc(fpr,tpr)"
   ]
  },
  {
   "cell_type": "code",
   "execution_count": null,
   "metadata": {},
   "outputs": [],
   "source": []
  },
  {
   "cell_type": "code",
   "execution_count": 19,
   "metadata": {},
   "outputs": [
    {
     "data": {
      "text/plain": [
       "1.0"
      ]
     },
     "execution_count": 19,
     "metadata": {},
     "output_type": "execute_result"
    }
   ],
   "source": [
    "metrics.accuracy_score(test_y, y_pred)  # ACC"
   ]
  },
  {
   "cell_type": "code",
   "execution_count": 20,
   "metadata": {},
   "outputs": [
    {
     "data": {
      "text/plain": [
       "1.0"
      ]
     },
     "execution_count": 20,
     "metadata": {},
     "output_type": "execute_result"
    }
   ],
   "source": [
    "metrics.precision_score(test_y, y_pred)  # Precision"
   ]
  },
  {
   "cell_type": "code",
   "execution_count": 21,
   "metadata": {},
   "outputs": [
    {
     "data": {
      "text/plain": [
       "array([[13,  0],\n",
       "       [ 0, 12]])"
      ]
     },
     "execution_count": 21,
     "metadata": {},
     "output_type": "execute_result"
    }
   ],
   "source": [
    "metrics.confusion_matrix(test_y, y_pred)  # confusion matrix"
   ]
  },
  {
   "cell_type": "code",
   "execution_count": 22,
   "metadata": {},
   "outputs": [
    {
     "data": {
      "text/plain": [
       "array([0.20081411, 0.8039156 , 0.20081411, 0.8039156 , 0.8039156 ,\n",
       "       0.8039156 , 0.20081411, 0.8039156 , 0.8039156 , 0.8039156 ,\n",
       "       0.8039156 , 0.8039156 , 0.8039156 , 0.20081411, 0.20081411,\n",
       "       0.20081411, 0.20081411, 0.20081411, 0.20081411, 0.20081411,\n",
       "       0.20081411, 0.8039156 , 0.20081411, 0.8039156 , 0.20081411],\n",
       "      dtype=float32)"
      ]
     },
     "execution_count": 22,
     "metadata": {},
     "output_type": "execute_result"
    }
   ],
   "source": [
    "ypred"
   ]
  },
  {
   "cell_type": "code",
   "execution_count": 23,
   "metadata": {},
   "outputs": [
    {
     "data": {
      "image/svg+xml": [
       "<?xml version=\"1.0\" encoding=\"UTF-8\" standalone=\"no\"?>\n",
       "<!DOCTYPE svg PUBLIC \"-//W3C//DTD SVG 1.1//EN\"\n",
       " \"http://www.w3.org/Graphics/SVG/1.1/DTD/svg11.dtd\">\n",
       "<!-- Generated by graphviz version 2.40.1 (20161225.0304)\n",
       " -->\n",
       "<!-- Title: %3 Pages: 1 -->\n",
       "<svg width=\"270pt\" height=\"173pt\"\n",
       " viewBox=\"0.00 0.00 270.00 172.99\" xmlns=\"http://www.w3.org/2000/svg\" xmlns:xlink=\"http://www.w3.org/1999/xlink\">\n",
       "<g id=\"graph0\" class=\"graph\" transform=\"scale(1 1) rotate(0) translate(4 168.9931)\">\n",
       "<title>%3</title>\n",
       "<polygon fill=\"#ffffff\" stroke=\"transparent\" points=\"-4,4 -4,-168.9931 266,-168.9931 266,4 -4,4\"/>\n",
       "<!-- 0 -->\n",
       "<g id=\"node1\" class=\"node\">\n",
       "<title>0</title>\n",
       "<ellipse fill=\"none\" stroke=\"#000000\" cx=\"134\" cy=\"-125.9965\" rx=\"38.9931\" ry=\"38.9931\"/>\n",
       "<text text-anchor=\"middle\" x=\"134\" y=\"-122.2965\" font-family=\"Times,serif\" font-size=\"14.00\" fill=\"#000000\">f3&lt;0.75</text>\n",
       "</g>\n",
       "<!-- 1 -->\n",
       "<g id=\"node2\" class=\"node\">\n",
       "<title>1</title>\n",
       "<polygon fill=\"none\" stroke=\"#000000\" points=\"128,-36 0,-36 0,0 128,0 128,-36\"/>\n",
       "<text text-anchor=\"middle\" x=\"64\" y=\"-14.3\" font-family=\"Times,serif\" font-size=\"14.00\" fill=\"#000000\">leaf=&#45;0.0196969714</text>\n",
       "</g>\n",
       "<!-- 0&#45;&gt;1 -->\n",
       "<g id=\"edge1\" class=\"edge\">\n",
       "<title>0&#45;&gt;1</title>\n",
       "<path fill=\"none\" stroke=\"#0000ff\" d=\"M112.6173,-93.0072C102.5619,-77.4937 90.73,-59.2392 81.2562,-44.623\"/>\n",
       "<polygon fill=\"#0000ff\" stroke=\"#0000ff\" points=\"84.0753,-42.5374 75.6992,-36.0496 78.2013,-46.3447 84.0753,-42.5374\"/>\n",
       "<text text-anchor=\"middle\" x=\"131.5\" y=\"-57.8\" font-family=\"Times,serif\" font-size=\"14.00\" fill=\"#000000\">yes, missing</text>\n",
       "</g>\n",
       "<!-- 2 -->\n",
       "<g id=\"node3\" class=\"node\">\n",
       "<title>2</title>\n",
       "<polygon fill=\"none\" stroke=\"#000000\" points=\"262,-36 146,-36 146,0 262,0 262,-36\"/>\n",
       "<text text-anchor=\"middle\" x=\"204\" y=\"-14.3\" font-family=\"Times,serif\" font-size=\"14.00\" fill=\"#000000\">leaf=0.021428572</text>\n",
       "</g>\n",
       "<!-- 0&#45;&gt;2 -->\n",
       "<g id=\"edge2\" class=\"edge\">\n",
       "<title>0&#45;&gt;2</title>\n",
       "<path fill=\"none\" stroke=\"#ff0000\" d=\"M155.3827,-93.0072C165.4381,-77.4937 177.27,-59.2392 186.7438,-44.623\"/>\n",
       "<polygon fill=\"#ff0000\" stroke=\"#ff0000\" points=\"189.7987,-46.3447 192.3008,-36.0496 183.9247,-42.5374 189.7987,-46.3447\"/>\n",
       "<text text-anchor=\"middle\" x=\"186\" y=\"-57.8\" font-family=\"Times,serif\" font-size=\"14.00\" fill=\"#000000\">no</text>\n",
       "</g>\n",
       "</g>\n",
       "</svg>\n"
      ],
      "text/plain": [
       "<graphviz.dot.Digraph at 0x7fea7cd4d908>"
      ]
     },
     "execution_count": 23,
     "metadata": {},
     "output_type": "execute_result"
    }
   ],
   "source": [
    "xgb.to_graphviz(bst, num_trees=0) # visualize the first tree"
   ]
  },
  {
   "cell_type": "code",
   "execution_count": 24,
   "metadata": {},
   "outputs": [],
   "source": [
    "# bst.dump_model('./Desktop/model.txt')"
   ]
  },
  {
   "cell_type": "code",
   "execution_count": 29,
   "metadata": {},
   "outputs": [],
   "source": [
    "# bst.save_model('./Desktop/0001.model')"
   ]
  },
  {
   "cell_type": "markdown",
   "metadata": {},
   "source": [
    "# Importance of Features"
   ]
  },
  {
   "cell_type": "code",
   "execution_count": 25,
   "metadata": {},
   "outputs": [],
   "source": [
    "ypred_contribs = bst.predict(dtest, pred_contribs=True)"
   ]
  },
  {
   "cell_type": "code",
   "execution_count": 26,
   "metadata": {},
   "outputs": [
    {
     "data": {
      "text/plain": [
       "array([[ 0.        ,  0.        , -1.0144829 , -0.4127775 ,  0.04604663],\n",
       "       [ 0.        ,  0.        ,  0.96967536,  0.39522746,  0.04604663],\n",
       "       [ 0.        ,  0.        , -1.0144829 , -0.4127775 ,  0.04604663],\n",
       "       [ 0.        ,  0.        ,  0.96967536,  0.39522746,  0.04604663],\n",
       "       [ 0.        ,  0.        ,  0.96967536,  0.39522746,  0.04604663],\n",
       "       [ 0.        ,  0.        ,  0.96967536,  0.39522746,  0.04604663],\n",
       "       [ 0.        ,  0.        , -1.0144829 , -0.4127775 ,  0.04604663],\n",
       "       [ 0.        ,  0.        ,  0.96967536,  0.39522746,  0.04604663],\n",
       "       [ 0.        ,  0.        ,  0.96967536,  0.39522746,  0.04604663],\n",
       "       [ 0.        ,  0.        ,  0.96967536,  0.39522746,  0.04604663],\n",
       "       [ 0.        ,  0.        ,  0.96967536,  0.39522746,  0.04604663],\n",
       "       [ 0.        ,  0.        ,  0.96967536,  0.39522746,  0.04604663],\n",
       "       [ 0.        ,  0.        ,  0.96967536,  0.39522746,  0.04604663],\n",
       "       [ 0.        ,  0.        , -1.0144829 , -0.4127775 ,  0.04604663],\n",
       "       [ 0.        ,  0.        , -1.0144829 , -0.4127775 ,  0.04604663],\n",
       "       [ 0.        ,  0.        , -1.0144829 , -0.4127775 ,  0.04604663],\n",
       "       [ 0.        ,  0.        , -1.0144829 , -0.4127775 ,  0.04604663],\n",
       "       [ 0.        ,  0.        , -1.0144829 , -0.4127775 ,  0.04604663],\n",
       "       [ 0.        ,  0.        , -1.0144829 , -0.4127775 ,  0.04604663],\n",
       "       [ 0.        ,  0.        , -1.0144829 , -0.4127775 ,  0.04604663],\n",
       "       [ 0.        ,  0.        , -1.0144829 , -0.4127775 ,  0.04604663],\n",
       "       [ 0.        ,  0.        ,  0.96967536,  0.39522746,  0.04604663],\n",
       "       [ 0.        ,  0.        , -1.0144829 , -0.4127775 ,  0.04604663],\n",
       "       [ 0.        ,  0.        ,  0.96967536,  0.39522746,  0.04604663],\n",
       "       [ 0.        ,  0.        , -1.0144829 , -0.4127775 ,  0.04604663]],\n",
       "      dtype=float32)"
      ]
     },
     "execution_count": 26,
     "metadata": {},
     "output_type": "execute_result"
    }
   ],
   "source": [
    "ypred_contribs"
   ]
  },
  {
   "cell_type": "code",
   "execution_count": 38,
   "metadata": {},
   "outputs": [
    {
     "data": {
      "image/png": "[encoded data removed]",
      "text/plain": [
       "<matplotlib.figure.Figure at 0x7fea76aceef0>"
      ]
     },
     "metadata": {},
     "output_type": "display_data"
    }
   ],
   "source": [
    "import matplotlib.pyplot as plt\n",
    "xgb.plot_importance(bst)\n",
    "plt.show()"
   ]
  },
  {
   "cell_type": "code",
   "execution_count": null,
   "metadata": {},
   "outputs": [],
   "source": []
  },
  {
   "cell_type": "code",
   "execution_count": null,
   "metadata": {},
   "outputs": [],
   "source": []
  }
 ],
 "metadata": {
  "kernelspec": {
   "display_name": "Python 3",
   "language": "python",
   "name": "python3"
  },
  "language_info": {
   "codemirror_mode": {
    "name": "ipython",
    "version": 3
   },
   "file_extension": ".py",
   "mimetype": "text/x-python",
   "name": "python",
   "nbconvert_exporter": "python",
   "pygments_lexer": "ipython3",
   "version": "3.6.7"
  },
  "toc": {
   "base_numbering": 1,
   "nav_menu": {},
   "number_sections": false,
   "sideBar": false,
   "skip_h1_title": false,
   "title_cell": "Table of Contents",
   "title_sidebar": "Contents",
   "toc_cell": false,
   "toc_position": {},
   "toc_section_display": false,
   "toc_window_display": false
  }
 },
 "nbformat": 4,
 "nbformat_minor": 2
}
